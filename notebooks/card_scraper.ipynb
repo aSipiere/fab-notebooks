{
 "cells": [
  {
   "cell_type": "code",
   "execution_count": 1,
   "metadata": {},
   "outputs": [],
   "source": [
    "import requests\n",
    "import pandas as pd\n",
    "import numpy as np"
   ]
  },
  {
   "cell_type": "code",
   "execution_count": 39,
   "metadata": {},
   "outputs": [],
   "source": [
    "def divide_chunks(n, d=100):\n",
    "    return int((n+ (d-1))/d) + 1"
   ]
  },
  {
   "cell_type": "code",
   "execution_count": 42,
   "metadata": {},
   "outputs": [
    {
     "output_type": "stream",
     "name": "stdout",
     "text": [
      "{'current_page': 1, 'from': 1, 'last_page': 7, 'path': '/cards', 'per_page': '100', 'to': 100, 'total': 656}\n",
      "{'current_page': 2, 'from': 101, 'last_page': 7, 'path': '/cards', 'per_page': '100', 'to': 200, 'total': 656}\n",
      "{'current_page': 3, 'from': 201, 'last_page': 7, 'path': '/cards', 'per_page': '100', 'to': 300, 'total': 656}\n",
      "{'current_page': 4, 'from': 301, 'last_page': 7, 'path': '/cards', 'per_page': '100', 'to': 400, 'total': 656}\n",
      "{'current_page': 5, 'from': 401, 'last_page': 7, 'path': '/cards', 'per_page': '100', 'to': 500, 'total': 656}\n",
      "{'current_page': 6, 'from': 501, 'last_page': 7, 'path': '/cards', 'per_page': '100', 'to': 600, 'total': 656}\n",
      "{'current_page': 7, 'from': 601, 'last_page': 7, 'path': '/cards', 'per_page': '100', 'to': 656, 'total': 656}\n"
     ]
    }
   ],
   "source": [
    "base_url = \"https://api.fabdb.net/cards\"\n",
    "\n",
    "payload = {\n",
    "    \"page\": 1,\n",
    "    \"per_page\": 100,\n",
    "}\n",
    "\n",
    "pages = []\n",
    "for i in range(1, divide_chunks(656, 100)):\n",
    "    r = requests.get(base_url, params=payload)\n",
    "    pages.append(r.json())\n",
    "    print(r.json()['meta'])\n",
    "    payload['page'] = i+1"
   ]
  },
  {
   "cell_type": "code",
   "execution_count": 43,
   "metadata": {},
   "outputs": [],
   "source": [
    "dfs = []\n",
    "for i in pages:\n",
    "    dfs.append(pd.DataFrame.from_dict(i['data']))\n",
    "df = pd.concat(dfs).reset_index()"
   ]
  },
  {
   "cell_type": "code",
   "execution_count": 44,
   "metadata": {},
   "outputs": [],
   "source": [
    "stat_list = df.stats.values.tolist()\n",
    "for n, i in enumerate(stat_list):\n",
    "    if i == []:\n",
    "        stat_list[n] = {}\n",
    "        \n",
    "df = df.drop(['stats', 'index'], axis=1).join(pd.DataFrame(stat_list))\n",
    "# numeric_cols = ['resource', 'attack', 'cost', 'defense', 'intellect', 'life']\n",
    "# df[numeric_cols] = df[numeric_cols].apply(pd.to_numeric, errors='coerce')"
   ]
  },
  {
   "cell_type": "code",
   "execution_count": 45,
   "metadata": {},
   "outputs": [],
   "source": [
    "def transform_name(row):\n",
    "\n",
    "    resource_map = {\n",
    "        '3': '(Blue)',\n",
    "        '2': '(Yellow)',\n",
    "        '1': '(Red)',\n",
    "        np.nan: '',\n",
    "    }\n",
    "    \n",
    "    return f\"{row['name']} {resource_map[row['resource']]}\""
   ]
  },
  {
   "cell_type": "code",
   "execution_count": 46,
   "metadata": {},
   "outputs": [],
   "source": [
    "df['name_resource'] = df.apply(transform_name, axis=1)"
   ]
  },
  {
   "cell_type": "code",
   "execution_count": 47,
   "metadata": {},
   "outputs": [],
   "source": [
    "df = df[~df['identifier'].str.contains(\"IRA\")]\n",
    "df = df.drop_duplicates('name_resource')\n"
   ]
  },
  {
   "cell_type": "code",
   "execution_count": 48,
   "metadata": {},
   "outputs": [],
   "source": [
    "df.to_csv(\"cards.csv\", index=False)"
   ]
  },
  {
   "cell_type": "code",
   "execution_count": 49,
   "metadata": {},
   "outputs": [
    {
     "output_type": "execute_result",
     "data": {
      "text/plain": [
       "    identifier                                              image  \\\n",
       "645     WTR215  https://fabdb2.imgix.net/cards/wtr/215.png?w=3...   \n",
       "646     WTR216  https://fabdb2.imgix.net/cards/wtr/216.png?w=3...   \n",
       "647     WTR217  https://fabdb2.imgix.net/cards/wtr/217.png?w=3...   \n",
       "\n",
       "                         keywords        name rarity  \\\n",
       "645  [generic, defense, reaction]  Sink Below      C   \n",
       "646  [generic, defense, reaction]  Sink Below      C   \n",
       "647  [generic, defense, reaction]  Sink Below      C   \n",
       "\n",
       "                                                  text variants attack cost  \\\n",
       "645  You may put a card from your hand on the botto...       []    NaN    0   \n",
       "646  You may put a card from your hand on the botto...       []    NaN    0   \n",
       "647  You may put a card from your hand on the botto...       []    NaN    0   \n",
       "\n",
       "    defense intellect life resource        name_resource  \n",
       "645       4       NaN  NaN        1     Sink Below (Red)  \n",
       "646       3       NaN  NaN        2  Sink Below (Yellow)  \n",
       "647       2       NaN  NaN        3    Sink Below (Blue)  "
      ],
      "text/html": "<div>\n<style scoped>\n    .dataframe tbody tr th:only-of-type {\n        vertical-align: middle;\n    }\n\n    .dataframe tbody tr th {\n        vertical-align: top;\n    }\n\n    .dataframe thead th {\n        text-align: right;\n    }\n</style>\n<table border=\"1\" class=\"dataframe\">\n  <thead>\n    <tr style=\"text-align: right;\">\n      <th></th>\n      <th>identifier</th>\n      <th>image</th>\n      <th>keywords</th>\n      <th>name</th>\n      <th>rarity</th>\n      <th>text</th>\n      <th>variants</th>\n      <th>attack</th>\n      <th>cost</th>\n      <th>defense</th>\n      <th>intellect</th>\n      <th>life</th>\n      <th>resource</th>\n      <th>name_resource</th>\n    </tr>\n  </thead>\n  <tbody>\n    <tr>\n      <th>645</th>\n      <td>WTR215</td>\n      <td>https://fabdb2.imgix.net/cards/wtr/215.png?w=3...</td>\n      <td>[generic, defense, reaction]</td>\n      <td>Sink Below</td>\n      <td>C</td>\n      <td>You may put a card from your hand on the botto...</td>\n      <td>[]</td>\n      <td>NaN</td>\n      <td>0</td>\n      <td>4</td>\n      <td>NaN</td>\n      <td>NaN</td>\n      <td>1</td>\n      <td>Sink Below (Red)</td>\n    </tr>\n    <tr>\n      <th>646</th>\n      <td>WTR216</td>\n      <td>https://fabdb2.imgix.net/cards/wtr/216.png?w=3...</td>\n      <td>[generic, defense, reaction]</td>\n      <td>Sink Below</td>\n      <td>C</td>\n      <td>You may put a card from your hand on the botto...</td>\n      <td>[]</td>\n      <td>NaN</td>\n      <td>0</td>\n      <td>3</td>\n      <td>NaN</td>\n      <td>NaN</td>\n      <td>2</td>\n      <td>Sink Below (Yellow)</td>\n    </tr>\n    <tr>\n      <th>647</th>\n      <td>WTR217</td>\n      <td>https://fabdb2.imgix.net/cards/wtr/217.png?w=3...</td>\n      <td>[generic, defense, reaction]</td>\n      <td>Sink Below</td>\n      <td>C</td>\n      <td>You may put a card from your hand on the botto...</td>\n      <td>[]</td>\n      <td>NaN</td>\n      <td>0</td>\n      <td>2</td>\n      <td>NaN</td>\n      <td>NaN</td>\n      <td>3</td>\n      <td>Sink Below (Blue)</td>\n    </tr>\n  </tbody>\n</table>\n</div>"
     },
     "metadata": {},
     "execution_count": 49
    }
   ],
   "source": [
    "df[df['name'] == \"Sink Below\"]"
   ]
  },
  {
   "cell_type": "code",
   "execution_count": 50,
   "metadata": {},
   "outputs": [
    {
     "output_type": "execute_result",
     "data": {
      "text/plain": [
       "(619, 14)"
      ]
     },
     "metadata": {},
     "execution_count": 50
    }
   ],
   "source": [
    "df.shape"
   ]
  },
  {
   "cell_type": "code",
   "execution_count": null,
   "metadata": {},
   "outputs": [],
   "source": []
  }
 ],
 "metadata": {
  "kernelspec": {
   "name": "python3",
   "display_name": "Python 3.7.3 64-bit ('baro': conda)",
   "metadata": {
    "interpreter": {
     "hash": "659266d8a455d26618768102df0078a8cc075bdda47fb8955d6ff66ee655db2b"
    }
   }
  },
  "language_info": {
   "codemirror_mode": {
    "name": "ipython",
    "version": 3
   },
   "file_extension": ".py",
   "mimetype": "text/x-python",
   "name": "python",
   "nbconvert_exporter": "python",
   "pygments_lexer": "ipython3",
   "version": "3.7.3-final"
  }
 },
 "nbformat": 4,
 "nbformat_minor": 4
}