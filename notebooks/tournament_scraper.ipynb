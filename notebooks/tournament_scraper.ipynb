{
 "cells": [
  {
   "cell_type": "code",
   "execution_count": 15,
   "metadata": {},
   "outputs": [],
   "source": [
    "import re\n",
    "from datetime import datetime\n",
    "\n",
    "from bs4 import BeautifulSoup\n",
    "import requests\n",
    "import pandas as pd\n",
    "import numpy as np"
   ]
  },
  {
   "cell_type": "markdown",
   "metadata": {},
   "source": [
    "First lets work out how many pages are on the tournament decklists page."
   ]
  },
  {
   "cell_type": "code",
   "execution_count": 16,
   "metadata": {},
   "outputs": [],
   "source": [
    "def get_number_of_pages():\n",
    "    r = requests.get(f\"https://fabtcg.com/decklists/?page=1\")\n",
    "    soup = BeautifulSoup(r.text, 'html.parser')\n",
    "    last = int(soup.findAll(\"a\", {\"class\": \"page-link starling\"})[-1]['href'].partition(\"=\")[-1])\n",
    "    return last"
   ]
  },
  {
   "cell_type": "markdown",
   "metadata": {},
   "source": [
    "Now on each page we have to read the table, find all the links, and stitch them together."
   ]
  },
  {
   "cell_type": "code",
   "execution_count": 17,
   "metadata": {},
   "outputs": [],
   "source": [
    "def get_page(page):\n",
    "    r = requests.get(f\"https://fabtcg.com/decklists/?page={page}\")\n",
    "    soup = BeautifulSoup(r.text, 'html.parser')\n",
    "    \n",
    "    df = pd.read_html(f\"https://fabtcg.com/decklists/?page={page}\", flavor='bs4')[0]\n",
    "    \n",
    "    table = soup.find('table')\n",
    "    links = {}\n",
    "    for tr in table.findAll(\"tr\"):\n",
    "        trs = tr.findAll(\"td\")\n",
    "        for each in trs:\n",
    "            try:\n",
    "                a_text = re.sub('\\s+',' ', each.find('a').contents[0])\n",
    "                a_link = each.find('a')['href']\n",
    "                links[a_text] = a_link\n",
    "            except:\n",
    "                pass\n",
    "\n",
    "    def fetch_deck_url(row):\n",
    "        try:\n",
    "            deck = links[row['Decklist']]\n",
    "        except:\n",
    "            deck = None\n",
    "\n",
    "        return deck\n",
    "\n",
    "    def fetch_event_url(row):\n",
    "        try:\n",
    "            event = links[row['Event']]\n",
    "        except:\n",
    "            event = None\n",
    "\n",
    "        return event\n",
    "    \n",
    "    df['deck_link'] = df.apply(fetch_deck_url, axis=1)\n",
    "    df['event_link'] = df.apply(fetch_event_url, axis=1)\n",
    "    df['Date'] = pd.to_datetime(df['Date'])\n",
    "    \n",
    "    return df"
   ]
  },
  {
   "cell_type": "markdown",
   "metadata": {},
   "source": [
    "Loop through the available pages and concat out the df."
   ]
  },
  {
   "cell_type": "code",
   "execution_count": 18,
   "metadata": {},
   "outputs": [],
   "source": [
    "def get_all_pages():\n",
    "    dfs = []\n",
    "    for i in range(1, get_number_of_pages()):\n",
    "        dfs.append(get_page(i))\n",
    "        \n",
    "    return pd.concat(dfs).reset_index(drop=True)"
   ]
  },
  {
   "cell_type": "code",
   "execution_count": 19,
   "metadata": {},
   "outputs": [],
   "source": [
    "df = get_all_pages()"
   ]
  },
  {
   "cell_type": "code",
   "execution_count": 20,
   "metadata": {},
   "outputs": [],
   "source": [
    "df.to_csv(\"tournament_lists.csv\")"
   ]
  },
  {
   "cell_type": "markdown",
   "metadata": {},
   "source": [
    "Next we're going to use the cards we got from FABDB to get more data on card data."
   ]
  },
  {
   "cell_type": "code",
   "execution_count": 21,
   "metadata": {},
   "outputs": [
    {
     "output_type": "error",
     "ename": "FileNotFoundError",
     "evalue": "[Errno 2] File b'cards.csv' does not exist: b'cards.csv'",
     "traceback": [
      "\u001b[1;31m---------------------------------------------------------------------------\u001b[0m",
      "\u001b[1;31mFileNotFoundError\u001b[0m                         Traceback (most recent call last)",
      "\u001b[1;32m<ipython-input-21-039e18744c5d>\u001b[0m in \u001b[0;36m<module>\u001b[1;34m\u001b[0m\n\u001b[1;32m----> 1\u001b[1;33m \u001b[0mcard_df\u001b[0m \u001b[1;33m=\u001b[0m \u001b[0mpd\u001b[0m\u001b[1;33m.\u001b[0m\u001b[0mread_csv\u001b[0m\u001b[1;33m(\u001b[0m\u001b[1;34m\"cards.csv\"\u001b[0m\u001b[1;33m)\u001b[0m\u001b[1;33m.\u001b[0m\u001b[0mdrop\u001b[0m\u001b[1;33m(\u001b[0m\u001b[1;33m[\u001b[0m\u001b[1;34m'image'\u001b[0m\u001b[1;33m,\u001b[0m \u001b[1;34m'resource'\u001b[0m\u001b[1;33m,\u001b[0m \u001b[1;34m'name'\u001b[0m\u001b[1;33m]\u001b[0m\u001b[1;33m,\u001b[0m \u001b[0maxis\u001b[0m\u001b[1;33m=\u001b[0m\u001b[1;36m1\u001b[0m\u001b[1;33m)\u001b[0m\u001b[1;33m\u001b[0m\u001b[0m\n\u001b[0m",
      "\u001b[1;32m~\\Anaconda3\\lib\\site-packages\\pandas\\io\\parsers.py\u001b[0m in \u001b[0;36mparser_f\u001b[1;34m(filepath_or_buffer, sep, delimiter, header, names, index_col, usecols, squeeze, prefix, mangle_dupe_cols, dtype, engine, converters, true_values, false_values, skipinitialspace, skiprows, skipfooter, nrows, na_values, keep_default_na, na_filter, verbose, skip_blank_lines, parse_dates, infer_datetime_format, keep_date_col, date_parser, dayfirst, cache_dates, iterator, chunksize, compression, thousands, decimal, lineterminator, quotechar, quoting, doublequote, escapechar, comment, encoding, dialect, error_bad_lines, warn_bad_lines, delim_whitespace, low_memory, memory_map, float_precision)\u001b[0m\n\u001b[0;32m    683\u001b[0m         )\n\u001b[0;32m    684\u001b[0m \u001b[1;33m\u001b[0m\u001b[0m\n\u001b[1;32m--> 685\u001b[1;33m         \u001b[1;32mreturn\u001b[0m \u001b[0m_read\u001b[0m\u001b[1;33m(\u001b[0m\u001b[0mfilepath_or_buffer\u001b[0m\u001b[1;33m,\u001b[0m \u001b[0mkwds\u001b[0m\u001b[1;33m)\u001b[0m\u001b[1;33m\u001b[0m\u001b[0m\n\u001b[0m\u001b[0;32m    686\u001b[0m \u001b[1;33m\u001b[0m\u001b[0m\n\u001b[0;32m    687\u001b[0m     \u001b[0mparser_f\u001b[0m\u001b[1;33m.\u001b[0m\u001b[0m__name__\u001b[0m \u001b[1;33m=\u001b[0m \u001b[0mname\u001b[0m\u001b[1;33m\u001b[0m\u001b[0m\n",
      "\u001b[1;32m~\\Anaconda3\\lib\\site-packages\\pandas\\io\\parsers.py\u001b[0m in \u001b[0;36m_read\u001b[1;34m(filepath_or_buffer, kwds)\u001b[0m\n\u001b[0;32m    455\u001b[0m \u001b[1;33m\u001b[0m\u001b[0m\n\u001b[0;32m    456\u001b[0m     \u001b[1;31m# Create the parser.\u001b[0m\u001b[1;33m\u001b[0m\u001b[1;33m\u001b[0m\u001b[0m\n\u001b[1;32m--> 457\u001b[1;33m     \u001b[0mparser\u001b[0m \u001b[1;33m=\u001b[0m \u001b[0mTextFileReader\u001b[0m\u001b[1;33m(\u001b[0m\u001b[0mfp_or_buf\u001b[0m\u001b[1;33m,\u001b[0m \u001b[1;33m**\u001b[0m\u001b[0mkwds\u001b[0m\u001b[1;33m)\u001b[0m\u001b[1;33m\u001b[0m\u001b[0m\n\u001b[0m\u001b[0;32m    458\u001b[0m \u001b[1;33m\u001b[0m\u001b[0m\n\u001b[0;32m    459\u001b[0m     \u001b[1;32mif\u001b[0m \u001b[0mchunksize\u001b[0m \u001b[1;32mor\u001b[0m \u001b[0miterator\u001b[0m\u001b[1;33m:\u001b[0m\u001b[1;33m\u001b[0m\u001b[0m\n",
      "\u001b[1;32m~\\Anaconda3\\lib\\site-packages\\pandas\\io\\parsers.py\u001b[0m in \u001b[0;36m__init__\u001b[1;34m(self, f, engine, **kwds)\u001b[0m\n\u001b[0;32m    893\u001b[0m             \u001b[0mself\u001b[0m\u001b[1;33m.\u001b[0m\u001b[0moptions\u001b[0m\u001b[1;33m[\u001b[0m\u001b[1;34m\"has_index_names\"\u001b[0m\u001b[1;33m]\u001b[0m \u001b[1;33m=\u001b[0m \u001b[0mkwds\u001b[0m\u001b[1;33m[\u001b[0m\u001b[1;34m\"has_index_names\"\u001b[0m\u001b[1;33m]\u001b[0m\u001b[1;33m\u001b[0m\u001b[0m\n\u001b[0;32m    894\u001b[0m \u001b[1;33m\u001b[0m\u001b[0m\n\u001b[1;32m--> 895\u001b[1;33m         \u001b[0mself\u001b[0m\u001b[1;33m.\u001b[0m\u001b[0m_make_engine\u001b[0m\u001b[1;33m(\u001b[0m\u001b[0mself\u001b[0m\u001b[1;33m.\u001b[0m\u001b[0mengine\u001b[0m\u001b[1;33m)\u001b[0m\u001b[1;33m\u001b[0m\u001b[0m\n\u001b[0m\u001b[0;32m    896\u001b[0m \u001b[1;33m\u001b[0m\u001b[0m\n\u001b[0;32m    897\u001b[0m     \u001b[1;32mdef\u001b[0m \u001b[0mclose\u001b[0m\u001b[1;33m(\u001b[0m\u001b[0mself\u001b[0m\u001b[1;33m)\u001b[0m\u001b[1;33m:\u001b[0m\u001b[1;33m\u001b[0m\u001b[0m\n",
      "\u001b[1;32m~\\Anaconda3\\lib\\site-packages\\pandas\\io\\parsers.py\u001b[0m in \u001b[0;36m_make_engine\u001b[1;34m(self, engine)\u001b[0m\n\u001b[0;32m   1133\u001b[0m     \u001b[1;32mdef\u001b[0m \u001b[0m_make_engine\u001b[0m\u001b[1;33m(\u001b[0m\u001b[0mself\u001b[0m\u001b[1;33m,\u001b[0m \u001b[0mengine\u001b[0m\u001b[1;33m=\u001b[0m\u001b[1;34m\"c\"\u001b[0m\u001b[1;33m)\u001b[0m\u001b[1;33m:\u001b[0m\u001b[1;33m\u001b[0m\u001b[0m\n\u001b[0;32m   1134\u001b[0m         \u001b[1;32mif\u001b[0m \u001b[0mengine\u001b[0m \u001b[1;33m==\u001b[0m \u001b[1;34m\"c\"\u001b[0m\u001b[1;33m:\u001b[0m\u001b[1;33m\u001b[0m\u001b[0m\n\u001b[1;32m-> 1135\u001b[1;33m             \u001b[0mself\u001b[0m\u001b[1;33m.\u001b[0m\u001b[0m_engine\u001b[0m \u001b[1;33m=\u001b[0m \u001b[0mCParserWrapper\u001b[0m\u001b[1;33m(\u001b[0m\u001b[0mself\u001b[0m\u001b[1;33m.\u001b[0m\u001b[0mf\u001b[0m\u001b[1;33m,\u001b[0m \u001b[1;33m**\u001b[0m\u001b[0mself\u001b[0m\u001b[1;33m.\u001b[0m\u001b[0moptions\u001b[0m\u001b[1;33m)\u001b[0m\u001b[1;33m\u001b[0m\u001b[0m\n\u001b[0m\u001b[0;32m   1136\u001b[0m         \u001b[1;32melse\u001b[0m\u001b[1;33m:\u001b[0m\u001b[1;33m\u001b[0m\u001b[0m\n\u001b[0;32m   1137\u001b[0m             \u001b[1;32mif\u001b[0m \u001b[0mengine\u001b[0m \u001b[1;33m==\u001b[0m \u001b[1;34m\"python\"\u001b[0m\u001b[1;33m:\u001b[0m\u001b[1;33m\u001b[0m\u001b[0m\n",
      "\u001b[1;32m~\\Anaconda3\\lib\\site-packages\\pandas\\io\\parsers.py\u001b[0m in \u001b[0;36m__init__\u001b[1;34m(self, src, **kwds)\u001b[0m\n\u001b[0;32m   1904\u001b[0m         \u001b[0mkwds\u001b[0m\u001b[1;33m[\u001b[0m\u001b[1;34m\"usecols\"\u001b[0m\u001b[1;33m]\u001b[0m \u001b[1;33m=\u001b[0m \u001b[0mself\u001b[0m\u001b[1;33m.\u001b[0m\u001b[0musecols\u001b[0m\u001b[1;33m\u001b[0m\u001b[0m\n\u001b[0;32m   1905\u001b[0m \u001b[1;33m\u001b[0m\u001b[0m\n\u001b[1;32m-> 1906\u001b[1;33m         \u001b[0mself\u001b[0m\u001b[1;33m.\u001b[0m\u001b[0m_reader\u001b[0m \u001b[1;33m=\u001b[0m \u001b[0mparsers\u001b[0m\u001b[1;33m.\u001b[0m\u001b[0mTextReader\u001b[0m\u001b[1;33m(\u001b[0m\u001b[0msrc\u001b[0m\u001b[1;33m,\u001b[0m \u001b[1;33m**\u001b[0m\u001b[0mkwds\u001b[0m\u001b[1;33m)\u001b[0m\u001b[1;33m\u001b[0m\u001b[0m\n\u001b[0m\u001b[0;32m   1907\u001b[0m         \u001b[0mself\u001b[0m\u001b[1;33m.\u001b[0m\u001b[0munnamed_cols\u001b[0m \u001b[1;33m=\u001b[0m \u001b[0mself\u001b[0m\u001b[1;33m.\u001b[0m\u001b[0m_reader\u001b[0m\u001b[1;33m.\u001b[0m\u001b[0munnamed_cols\u001b[0m\u001b[1;33m\u001b[0m\u001b[0m\n\u001b[0;32m   1908\u001b[0m \u001b[1;33m\u001b[0m\u001b[0m\n",
      "\u001b[1;32mpandas\\_libs\\parsers.pyx\u001b[0m in \u001b[0;36mpandas._libs.parsers.TextReader.__cinit__\u001b[1;34m()\u001b[0m\n",
      "\u001b[1;32mpandas\\_libs\\parsers.pyx\u001b[0m in \u001b[0;36mpandas._libs.parsers.TextReader._setup_parser_source\u001b[1;34m()\u001b[0m\n",
      "\u001b[1;31mFileNotFoundError\u001b[0m: [Errno 2] File b'cards.csv' does not exist: b'cards.csv'"
     ]
    }
   ],
   "source": [
    "card_df = pd.read_csv(\"cards.csv\").drop(['image', 'resource', 'name'], axis=1)"
   ]
  },
  {
   "cell_type": "code",
   "execution_count": 26,
   "metadata": {},
   "outputs": [],
   "source": [
    "def enrich_deck(deck_df, card_df):\n",
    "    return pd.merge(deck_df, card_df, left_on=['name_resource'], right_on=['name_resource'])"
   ]
  },
  {
   "cell_type": "code",
   "execution_count": 27,
   "metadata": {},
   "outputs": [],
   "source": [
    "def get_deck(url):\n",
    "    r = requests.get(url)\n",
    "    soup = r.text\n",
    "    frames = pd.read_html(url, flavor='bs4')\n",
    "    \n",
    "    metadata = {frames[0].iloc[:, 0].to_list()[i]: frames[0].iloc[:, 1].to_list()[i] for i in range(frames[0].shape[0])}\n",
    "    equipment = frames[1].iloc[:, 0].str.extract(\"(?P<copies>.*?) x (?P<name>.*)\")\n",
    "    \n",
    "    dfs = []\n",
    "    for i in frames[2:]:\n",
    "        dfs.append(i.iloc[:, 0].str.extract(\"(?P<copies>.*?) x (?P<name>.*) \\((?P<resource>.*)\\)\"))    \n",
    "    dfs.append(equipment)\n",
    "    df = pd.concat(dfs)\n",
    "    \n",
    "    def transform_name(row):\n",
    "\n",
    "        resource_map = {\n",
    "            '3': '(Blue)',\n",
    "            '2': '(Yellow)',\n",
    "            '1': '(Red)',\n",
    "            np.nan: '',\n",
    "        }\n",
    "        \n",
    "        return f\"{row['name']} {resource_map[row['resource']]}\"\n",
    "    \n",
    "    df['name_resource'] = df.apply(transform_name, axis=1)\n",
    "    \n",
    "    df = enrich_deck(df, card_df)\n",
    "    numeric_cols = ['copies', 'resource', 'attack', 'cost', 'defense', 'intellect', 'life']\n",
    "    df[numeric_cols] = df[numeric_cols].apply(pd.to_numeric, errors='coerce')\n",
    "    \n",
    "    return metadata, df"
   ]
  },
  {
   "cell_type": "code",
   "execution_count": 32,
   "metadata": {},
   "outputs": [],
   "source": [
    "releases = {\n",
    "    'CRU': ('2020-08-28', datetime.now().strftime(\"%Y-%m-%d\")),\n",
    "    'ARC': ('2020-08-28', '2020-11-20'),\n",
    "    'WTR': ('1970-01-01', '2020-11-20'),\n",
    "    'ALL': ('1970-01-01', datetime.now().strftime(\"%Y-%m-%d\")),\n",
    "}\n",
    "\n",
    "def get_meta(df, date_tuple, tournament_format):\n",
    "    return df[\n",
    "        (df['Format'] == tournament_format) \n",
    "        & (df['Date'] >= date_tuple[0])\n",
    "        & (df['Date'] < date_tuple[1])\n",
    "        ]"
   ]
  },
  {
   "cell_type": "code",
   "execution_count": 34,
   "metadata": {},
   "outputs": [
    {
     "output_type": "execute_result",
     "data": {
      "text/plain": [
       "   Country       Date                                         Decklist  \\\n",
       "0       TW 2020-10-17             Huang Chih Wei Warrior Deck 17.10.20   \n",
       "1       TW 2020-10-17             Wang Chung Chi Warrior Deck 17.10.20   \n",
       "2       TW 2020-10-17                 Fan Keng Hsu Ninja Deck 17.10.20   \n",
       "3       TW 2020-10-17                 Hsiu Te Li Warrior Deck 17.10.20   \n",
       "4       TW 2020-10-17          Chen Wei Li Mechanologist Deck 17.10.20   \n",
       "5       TW 2020-10-17              Mingxian Chen Warrior Deck 17.10.20   \n",
       "6       TW 2020-10-17                Chen Chih Hao Ninja Deck 17.10.20   \n",
       "7       TW 2020-10-17                    Limbo_CFP Ninja Deck 17.10.20   \n",
       "8       MY 2020-10-11                 Alvin Khaw Warrior Deck 11.10.20   \n",
       "9       MY 2020-10-11                 Khoo Ne Bing Ninja Deck 11.10.20   \n",
       "10      MY 2020-10-11                   Lai Chi Yi Brute Deck 11.10.20   \n",
       "11      MY 2020-10-11                  Davin Shin Ranger Deck 11.10.20   \n",
       "28      MY 2020-10-03         Aimran Bahrin Mechanologist Deck 3.10.20   \n",
       "29      MY 2020-10-03                    Davin Shin Brute Deck 3.10.20   \n",
       "30      MY 2020-10-03           Saiful Bahari Hassan Dash Deck 3.10.20   \n",
       "31      MY 2020-10-03                   Zafran Chai Ninja Deck 3.10.20   \n",
       "40      NZ 2020-09-26         Matt Rogers Mechanologist Deck 26.9.2020   \n",
       "41      NZ 2020-09-26               John Jaurigue Warrior Deck 26.9.20   \n",
       "42      NZ 2020-09-26             Kieran McEntegart Brute Deck 26.9.20   \n",
       "43      NZ 2020-09-26              Jacob Pearson Guardian Deck 26.9.20   \n",
       "44      NZ 2020-09-26                 Liam Spronken Brute Deck 26.9.20   \n",
       "45      NZ 2020-09-26         Jason Thomson-Sheck Warrior Deck 26.9.20   \n",
       "46      NZ 2020-09-26          Rohan Khanna Mechanologist Deck 26.9.20   \n",
       "47      NZ 2020-09-26             Cayle McCreath Guardian Deck 26.9.20   \n",
       "48      NZ 2020-09-20                 Tom Penny Warrior Deck 20.9.2020   \n",
       "49      NZ 2020-09-20           Karol Ruszkiewicz Brute Deck 20.9.2020   \n",
       "50      NZ 2020-09-20           Henry Moore Mechanologist Deck 20.9.20   \n",
       "51      NZ 2020-09-20                   Luke Badger Brute Deck 20.9.20   \n",
       "52      NZ 2020-09-20                Cayle McCreath Brute Deck 20.9.20   \n",
       "53      NZ 2020-09-20                  Chris Bewley Ninja Deck 20.9.20   \n",
       "54      NZ 2020-09-20              Jacob Pearson Guardian Deck 20.9.20   \n",
       "55      NZ 2020-09-20                  Shamal Singh Ninja Deck 20.9.20   \n",
       "56      MY 2020-09-12  Lee Derk Hua Control Mechanologist Deck 12.9.20   \n",
       "57      MY 2020-09-12  Saiful Bahari Hassan Ninja Control Deck 12.9.20   \n",
       "58      MY 2020-09-12         Mohamad Hafiz Hamidon Ninja Deck 12.9.20   \n",
       "59      MY 2020-09-12                    Davin Shin Brute Deck 12.9.20   \n",
       "60      NZ 2020-08-30            Jasin Long Control Ninja Deck 30.8.20   \n",
       "61      NZ 2020-08-30                 Daniel Real Warrior Deck 30.8.20   \n",
       "62      NZ 2020-08-30              Kenny Forester Warrior Deck 30.8.20   \n",
       "63      NZ 2020-08-30            Rommel Estalilla Warrior Deck 30.8.20   \n",
       "64      NZ 2020-08-30                   Jed Lawless Ninja Deck 30.8.20   \n",
       "65      NZ 2020-08-30                Alex Barron Guardian Deck 30.8.20   \n",
       "66      NZ 2020-08-30             Mark Tung Mechanologist Deck 30.8.20   \n",
       "67      NZ 2020-08-30               Kieran Carnegie Ninja Deck 30.8.20   \n",
       "\n",
       "                          Event Format       Hero Result  \\\n",
       "0   Taiwan National Champs 2020     CC  Dorinthea    1st   \n",
       "1   Taiwan National Champs 2020     CC  Dorinthea    2nd   \n",
       "2   Taiwan National Champs 2020     CC      Katsu    3rd   \n",
       "3   Taiwan National Champs 2020     CC  Dorinthea    4th   \n",
       "4   Taiwan National Champs 2020     CC       Dash    5th   \n",
       "5   Taiwan National Champs 2020     CC  Dorinthea    6th   \n",
       "6   Taiwan National Champs 2020     CC      Katsu    7th   \n",
       "7   Taiwan National Champs 2020     CC      Katsu    8th   \n",
       "8          Malaysia - Road to …     CC  Dorinthea    1st   \n",
       "9          Malaysia - Road to …     CC      Katsu    2nd   \n",
       "10         Malaysia - Road to …     CC     Rhinar    3rd   \n",
       "11         Malaysia - Road to …     CC     Azalea    4th   \n",
       "28         Malaysia - Road to …     CC       Dash    1st   \n",
       "29         Malaysia - Road to …     CC     Rhinar    2nd   \n",
       "30         Malaysia - Road to …     CC       Dash    3rd   \n",
       "31         Malaysia - Road to …     CC      Katsu    4th   \n",
       "40   New Zealand Nationals 2020     CC       Dash    1st   \n",
       "41   New Zealand Nationals 2020     CC  Dorinthea    2nd   \n",
       "42   New Zealand Nationals 2020     CC     Rhinar    3rd   \n",
       "43   New Zealand Nationals 2020     CC      Bravo    4th   \n",
       "44   New Zealand Nationals 2020     CC     Rhinar    5th   \n",
       "45   New Zealand Nationals 2020     CC  Dorinthea    6th   \n",
       "46   New Zealand Nationals 2020     CC       Dash    7th   \n",
       "47   New Zealand Nationals 2020     CC      Bravo    8th   \n",
       "48         New Zealand - Road …     CC  Dorinthea    1st   \n",
       "49         New Zealand - Road …     CC     Rhinar    2nd   \n",
       "50         New Zealand - Road …     CC       Dash    3rd   \n",
       "51         New Zealand - Road …     CC     Rhinar    4th   \n",
       "52         New Zealand - Road …     CC     Rhinar    5th   \n",
       "53         New Zealand - Road …     CC      Katsu    6th   \n",
       "54         New Zealand - Road …     CC      Bravo    7th   \n",
       "55         New Zealand - Road …     CC      Katsu    8th   \n",
       "56         Malaysia - Road to …     CC       Dash    1st   \n",
       "57         Malaysia - Road to …     CC      Katsu    2nd   \n",
       "58         Malaysia - Road to …     CC      Katsu    3rd   \n",
       "59         Malaysia - Road to …     CC     Rhinar    4th   \n",
       "60         New Zealand - Road …     CC      Katsu    1st   \n",
       "61         New Zealand - Road …     CC  Dorinthea    2nd   \n",
       "62         New Zealand - Road …     CC  Dorinthea    3rd   \n",
       "63         New Zealand - Road …     CC  Dorinthea    4th   \n",
       "64         New Zealand - Road …     CC      Katsu    5th   \n",
       "65         New Zealand - Road …     CC      Bravo    6th   \n",
       "66         New Zealand - Road …     CC       Dash    7th   \n",
       "67         New Zealand - Road …     CC      Katsu    8th   \n",
       "\n",
       "                                            deck_link  \\\n",
       "0   https://fabtcg.com/decklists/huang-chih-wei-wa...   \n",
       "1   https://fabtcg.com/decklists/wang-chung-chi-wa...   \n",
       "2   https://fabtcg.com/decklists/fan-keng-hsu-ninj...   \n",
       "3   https://fabtcg.com/decklists/hsiu-te-li-warrio...   \n",
       "4   https://fabtcg.com/decklists/chen-wei-li-mecha...   \n",
       "5   https://fabtcg.com/decklists/mingxian-chen-war...   \n",
       "6   https://fabtcg.com/decklists/chen-chih-hao-nin...   \n",
       "7   https://fabtcg.com/decklists/limbo_cfp-ninja-d...   \n",
       "8   https://fabtcg.com/decklists/alvin-khaw-warrio...   \n",
       "9   https://fabtcg.com/decklists/khoo-ne-bing-ninj...   \n",
       "10  https://fabtcg.com/decklists/lai-chi-yi-brute-...   \n",
       "11  https://fabtcg.com/decklists/davin-shin-ranger...   \n",
       "28  https://fabtcg.com/decklists/aimran-bahrin-mec...   \n",
       "29  https://fabtcg.com/decklists/davin-shin-brute-...   \n",
       "30  https://fabtcg.com/decklists/saiful-bahari-has...   \n",
       "31  https://fabtcg.com/decklists/zafran-chai-ninja...   \n",
       "40  https://fabtcg.com/decklists/matt-rogers-mecha...   \n",
       "41  https://fabtcg.com/decklists/john-jaurigue-war...   \n",
       "42  https://fabtcg.com/decklists/kieran-mcentegart...   \n",
       "43  https://fabtcg.com/decklists/jacob-pearson-gua...   \n",
       "44  https://fabtcg.com/decklists/liam-spronken-bru...   \n",
       "45  https://fabtcg.com/decklists/jason-thomson-she...   \n",
       "46  https://fabtcg.com/decklists/rohan-khanna-mech...   \n",
       "47  https://fabtcg.com/decklists/cayle-mccreath-gu...   \n",
       "48  https://fabtcg.com/decklists/tom-penny-warrior...   \n",
       "49  https://fabtcg.com/decklists/karol-ruszkiewicz...   \n",
       "50  https://fabtcg.com/decklists/henry-moore-mecha...   \n",
       "51  https://fabtcg.com/decklists/luke-badger-brute...   \n",
       "52  https://fabtcg.com/decklists/cayle-mccreath-br...   \n",
       "53  https://fabtcg.com/decklists/chris-bewley-ninj...   \n",
       "54  https://fabtcg.com/decklists/jacob-pearson-gua...   \n",
       "55  https://fabtcg.com/decklists/shamal-singh-ninj...   \n",
       "56  https://fabtcg.com/decklists/lee-derk-hua-cont...   \n",
       "57  https://fabtcg.com/decklists/saiful-bahari-has...   \n",
       "58  https://fabtcg.com/decklists/mohamad-hafiz-ham...   \n",
       "59  https://fabtcg.com/decklists/davin-shin-brute-...   \n",
       "60  https://fabtcg.com/decklists/jasin-long-contro...   \n",
       "61  https://fabtcg.com/decklists/daniel-real-warri...   \n",
       "62  https://fabtcg.com/decklists/kenny-forester-wa...   \n",
       "63  https://fabtcg.com/decklists/rommel-estalilla-...   \n",
       "64  https://fabtcg.com/decklists/jed-lawless-ninja...   \n",
       "65  https://fabtcg.com/decklists/alex-barron-guard...   \n",
       "66  https://fabtcg.com/decklists/mark-tung-mechano...   \n",
       "67  https://fabtcg.com/decklists/kieran-carnegie-n...   \n",
       "\n",
       "                                           event_link  \n",
       "0   https://fabtcg.com/organised-play/2020/taiwan-...  \n",
       "1   https://fabtcg.com/organised-play/2020/taiwan-...  \n",
       "2   https://fabtcg.com/organised-play/2020/taiwan-...  \n",
       "3   https://fabtcg.com/organised-play/2020/taiwan-...  \n",
       "4   https://fabtcg.com/organised-play/2020/taiwan-...  \n",
       "5   https://fabtcg.com/organised-play/2020/taiwan-...  \n",
       "6   https://fabtcg.com/organised-play/2020/taiwan-...  \n",
       "7   https://fabtcg.com/organised-play/2020/taiwan-...  \n",
       "8   https://fabtcg.com/organised-play/2020/road-na...  \n",
       "9   https://fabtcg.com/organised-play/2020/road-na...  \n",
       "10  https://fabtcg.com/organised-play/2020/road-na...  \n",
       "11  https://fabtcg.com/organised-play/2020/road-na...  \n",
       "28  https://fabtcg.com/organised-play/2020/road-na...  \n",
       "29  https://fabtcg.com/organised-play/2020/road-na...  \n",
       "30  https://fabtcg.com/organised-play/2020/road-na...  \n",
       "31  https://fabtcg.com/organised-play/2020/road-na...  \n",
       "40  https://fabtcg.com/organised-play/2020/nationa...  \n",
       "41  https://fabtcg.com/organised-play/2020/nationa...  \n",
       "42  https://fabtcg.com/organised-play/2020/nationa...  \n",
       "43  https://fabtcg.com/organised-play/2020/nationa...  \n",
       "44  https://fabtcg.com/organised-play/2020/nationa...  \n",
       "45  https://fabtcg.com/organised-play/2020/nationa...  \n",
       "46  https://fabtcg.com/organised-play/2020/nationa...  \n",
       "47  https://fabtcg.com/organised-play/2020/nationa...  \n",
       "48  https://fabtcg.com/organised-play/2020/road-na...  \n",
       "49  https://fabtcg.com/organised-play/2020/road-na...  \n",
       "50  https://fabtcg.com/organised-play/2020/road-na...  \n",
       "51  https://fabtcg.com/organised-play/2020/road-na...  \n",
       "52  https://fabtcg.com/organised-play/2020/road-na...  \n",
       "53  https://fabtcg.com/organised-play/2020/road-na...  \n",
       "54  https://fabtcg.com/organised-play/2020/road-na...  \n",
       "55  https://fabtcg.com/organised-play/2020/road-na...  \n",
       "56  https://fabtcg.com/organised-play/2020/road-na...  \n",
       "57  https://fabtcg.com/organised-play/2020/road-na...  \n",
       "58  https://fabtcg.com/organised-play/2020/road-na...  \n",
       "59  https://fabtcg.com/organised-play/2020/road-na...  \n",
       "60  https://fabtcg.com/organised-play/2020/road-na...  \n",
       "61  https://fabtcg.com/organised-play/2020/road-na...  \n",
       "62  https://fabtcg.com/organised-play/2020/road-na...  \n",
       "63  https://fabtcg.com/organised-play/2020/road-na...  \n",
       "64  https://fabtcg.com/organised-play/2020/road-na...  \n",
       "65  https://fabtcg.com/organised-play/2020/road-na...  \n",
       "66  https://fabtcg.com/organised-play/2020/road-na...  \n",
       "67  https://fabtcg.com/organised-play/2020/road-na...  "
      ],
      "text/html": "<div>\n<style scoped>\n    .dataframe tbody tr th:only-of-type {\n        vertical-align: middle;\n    }\n\n    .dataframe tbody tr th {\n        vertical-align: top;\n    }\n\n    .dataframe thead th {\n        text-align: right;\n    }\n</style>\n<table border=\"1\" class=\"dataframe\">\n  <thead>\n    <tr style=\"text-align: right;\">\n      <th></th>\n      <th>Country</th>\n      <th>Date</th>\n      <th>Decklist</th>\n      <th>Event</th>\n      <th>Format</th>\n      <th>Hero</th>\n      <th>Result</th>\n      <th>deck_link</th>\n      <th>event_link</th>\n    </tr>\n  </thead>\n  <tbody>\n    <tr>\n      <th>0</th>\n      <td>TW</td>\n      <td>2020-10-17</td>\n      <td>Huang Chih Wei Warrior Deck 17.10.20</td>\n      <td>Taiwan National Champs 2020</td>\n      <td>CC</td>\n      <td>Dorinthea</td>\n      <td>1st</td>\n      <td>https://fabtcg.com/decklists/huang-chih-wei-wa...</td>\n      <td>https://fabtcg.com/organised-play/2020/taiwan-...</td>\n    </tr>\n    <tr>\n      <th>1</th>\n      <td>TW</td>\n      <td>2020-10-17</td>\n      <td>Wang Chung Chi Warrior Deck 17.10.20</td>\n      <td>Taiwan National Champs 2020</td>\n      <td>CC</td>\n      <td>Dorinthea</td>\n      <td>2nd</td>\n      <td>https://fabtcg.com/decklists/wang-chung-chi-wa...</td>\n      <td>https://fabtcg.com/organised-play/2020/taiwan-...</td>\n    </tr>\n    <tr>\n      <th>2</th>\n      <td>TW</td>\n      <td>2020-10-17</td>\n      <td>Fan Keng Hsu Ninja Deck 17.10.20</td>\n      <td>Taiwan National Champs 2020</td>\n      <td>CC</td>\n      <td>Katsu</td>\n      <td>3rd</td>\n      <td>https://fabtcg.com/decklists/fan-keng-hsu-ninj...</td>\n      <td>https://fabtcg.com/organised-play/2020/taiwan-...</td>\n    </tr>\n    <tr>\n      <th>3</th>\n      <td>TW</td>\n      <td>2020-10-17</td>\n      <td>Hsiu Te Li Warrior Deck 17.10.20</td>\n      <td>Taiwan National Champs 2020</td>\n      <td>CC</td>\n      <td>Dorinthea</td>\n      <td>4th</td>\n      <td>https://fabtcg.com/decklists/hsiu-te-li-warrio...</td>\n      <td>https://fabtcg.com/organised-play/2020/taiwan-...</td>\n    </tr>\n    <tr>\n      <th>4</th>\n      <td>TW</td>\n      <td>2020-10-17</td>\n      <td>Chen Wei Li Mechanologist Deck 17.10.20</td>\n      <td>Taiwan National Champs 2020</td>\n      <td>CC</td>\n      <td>Dash</td>\n      <td>5th</td>\n      <td>https://fabtcg.com/decklists/chen-wei-li-mecha...</td>\n      <td>https://fabtcg.com/organised-play/2020/taiwan-...</td>\n    </tr>\n    <tr>\n      <th>5</th>\n      <td>TW</td>\n      <td>2020-10-17</td>\n      <td>Mingxian Chen Warrior Deck 17.10.20</td>\n      <td>Taiwan National Champs 2020</td>\n      <td>CC</td>\n      <td>Dorinthea</td>\n      <td>6th</td>\n      <td>https://fabtcg.com/decklists/mingxian-chen-war...</td>\n      <td>https://fabtcg.com/organised-play/2020/taiwan-...</td>\n    </tr>\n    <tr>\n      <th>6</th>\n      <td>TW</td>\n      <td>2020-10-17</td>\n      <td>Chen Chih Hao Ninja Deck 17.10.20</td>\n      <td>Taiwan National Champs 2020</td>\n      <td>CC</td>\n      <td>Katsu</td>\n      <td>7th</td>\n      <td>https://fabtcg.com/decklists/chen-chih-hao-nin...</td>\n      <td>https://fabtcg.com/organised-play/2020/taiwan-...</td>\n    </tr>\n    <tr>\n      <th>7</th>\n      <td>TW</td>\n      <td>2020-10-17</td>\n      <td>Limbo_CFP Ninja Deck 17.10.20</td>\n      <td>Taiwan National Champs 2020</td>\n      <td>CC</td>\n      <td>Katsu</td>\n      <td>8th</td>\n      <td>https://fabtcg.com/decklists/limbo_cfp-ninja-d...</td>\n      <td>https://fabtcg.com/organised-play/2020/taiwan-...</td>\n    </tr>\n    <tr>\n      <th>8</th>\n      <td>MY</td>\n      <td>2020-10-11</td>\n      <td>Alvin Khaw Warrior Deck 11.10.20</td>\n      <td>Malaysia - Road to …</td>\n      <td>CC</td>\n      <td>Dorinthea</td>\n      <td>1st</td>\n      <td>https://fabtcg.com/decklists/alvin-khaw-warrio...</td>\n      <td>https://fabtcg.com/organised-play/2020/road-na...</td>\n    </tr>\n    <tr>\n      <th>9</th>\n      <td>MY</td>\n      <td>2020-10-11</td>\n      <td>Khoo Ne Bing Ninja Deck 11.10.20</td>\n      <td>Malaysia - Road to …</td>\n      <td>CC</td>\n      <td>Katsu</td>\n      <td>2nd</td>\n      <td>https://fabtcg.com/decklists/khoo-ne-bing-ninj...</td>\n      <td>https://fabtcg.com/organised-play/2020/road-na...</td>\n    </tr>\n    <tr>\n      <th>10</th>\n      <td>MY</td>\n      <td>2020-10-11</td>\n      <td>Lai Chi Yi Brute Deck 11.10.20</td>\n      <td>Malaysia - Road to …</td>\n      <td>CC</td>\n      <td>Rhinar</td>\n      <td>3rd</td>\n      <td>https://fabtcg.com/decklists/lai-chi-yi-brute-...</td>\n      <td>https://fabtcg.com/organised-play/2020/road-na...</td>\n    </tr>\n    <tr>\n      <th>11</th>\n      <td>MY</td>\n      <td>2020-10-11</td>\n      <td>Davin Shin Ranger Deck 11.10.20</td>\n      <td>Malaysia - Road to …</td>\n      <td>CC</td>\n      <td>Azalea</td>\n      <td>4th</td>\n      <td>https://fabtcg.com/decklists/davin-shin-ranger...</td>\n      <td>https://fabtcg.com/organised-play/2020/road-na...</td>\n    </tr>\n    <tr>\n      <th>28</th>\n      <td>MY</td>\n      <td>2020-10-03</td>\n      <td>Aimran Bahrin Mechanologist Deck 3.10.20</td>\n      <td>Malaysia - Road to …</td>\n      <td>CC</td>\n      <td>Dash</td>\n      <td>1st</td>\n      <td>https://fabtcg.com/decklists/aimran-bahrin-mec...</td>\n      <td>https://fabtcg.com/organised-play/2020/road-na...</td>\n    </tr>\n    <tr>\n      <th>29</th>\n      <td>MY</td>\n      <td>2020-10-03</td>\n      <td>Davin Shin Brute Deck 3.10.20</td>\n      <td>Malaysia - Road to …</td>\n      <td>CC</td>\n      <td>Rhinar</td>\n      <td>2nd</td>\n      <td>https://fabtcg.com/decklists/davin-shin-brute-...</td>\n      <td>https://fabtcg.com/organised-play/2020/road-na...</td>\n    </tr>\n    <tr>\n      <th>30</th>\n      <td>MY</td>\n      <td>2020-10-03</td>\n      <td>Saiful Bahari Hassan Dash Deck 3.10.20</td>\n      <td>Malaysia - Road to …</td>\n      <td>CC</td>\n      <td>Dash</td>\n      <td>3rd</td>\n      <td>https://fabtcg.com/decklists/saiful-bahari-has...</td>\n      <td>https://fabtcg.com/organised-play/2020/road-na...</td>\n    </tr>\n    <tr>\n      <th>31</th>\n      <td>MY</td>\n      <td>2020-10-03</td>\n      <td>Zafran Chai Ninja Deck 3.10.20</td>\n      <td>Malaysia - Road to …</td>\n      <td>CC</td>\n      <td>Katsu</td>\n      <td>4th</td>\n      <td>https://fabtcg.com/decklists/zafran-chai-ninja...</td>\n      <td>https://fabtcg.com/organised-play/2020/road-na...</td>\n    </tr>\n    <tr>\n      <th>40</th>\n      <td>NZ</td>\n      <td>2020-09-26</td>\n      <td>Matt Rogers Mechanologist Deck 26.9.2020</td>\n      <td>New Zealand Nationals 2020</td>\n      <td>CC</td>\n      <td>Dash</td>\n      <td>1st</td>\n      <td>https://fabtcg.com/decklists/matt-rogers-mecha...</td>\n      <td>https://fabtcg.com/organised-play/2020/nationa...</td>\n    </tr>\n    <tr>\n      <th>41</th>\n      <td>NZ</td>\n      <td>2020-09-26</td>\n      <td>John Jaurigue Warrior Deck 26.9.20</td>\n      <td>New Zealand Nationals 2020</td>\n      <td>CC</td>\n      <td>Dorinthea</td>\n      <td>2nd</td>\n      <td>https://fabtcg.com/decklists/john-jaurigue-war...</td>\n      <td>https://fabtcg.com/organised-play/2020/nationa...</td>\n    </tr>\n    <tr>\n      <th>42</th>\n      <td>NZ</td>\n      <td>2020-09-26</td>\n      <td>Kieran McEntegart Brute Deck 26.9.20</td>\n      <td>New Zealand Nationals 2020</td>\n      <td>CC</td>\n      <td>Rhinar</td>\n      <td>3rd</td>\n      <td>https://fabtcg.com/decklists/kieran-mcentegart...</td>\n      <td>https://fabtcg.com/organised-play/2020/nationa...</td>\n    </tr>\n    <tr>\n      <th>43</th>\n      <td>NZ</td>\n      <td>2020-09-26</td>\n      <td>Jacob Pearson Guardian Deck 26.9.20</td>\n      <td>New Zealand Nationals 2020</td>\n      <td>CC</td>\n      <td>Bravo</td>\n      <td>4th</td>\n      <td>https://fabtcg.com/decklists/jacob-pearson-gua...</td>\n      <td>https://fabtcg.com/organised-play/2020/nationa...</td>\n    </tr>\n    <tr>\n      <th>44</th>\n      <td>NZ</td>\n      <td>2020-09-26</td>\n      <td>Liam Spronken Brute Deck 26.9.20</td>\n      <td>New Zealand Nationals 2020</td>\n      <td>CC</td>\n      <td>Rhinar</td>\n      <td>5th</td>\n      <td>https://fabtcg.com/decklists/liam-spronken-bru...</td>\n      <td>https://fabtcg.com/organised-play/2020/nationa...</td>\n    </tr>\n    <tr>\n      <th>45</th>\n      <td>NZ</td>\n      <td>2020-09-26</td>\n      <td>Jason Thomson-Sheck Warrior Deck 26.9.20</td>\n      <td>New Zealand Nationals 2020</td>\n      <td>CC</td>\n      <td>Dorinthea</td>\n      <td>6th</td>\n      <td>https://fabtcg.com/decklists/jason-thomson-she...</td>\n      <td>https://fabtcg.com/organised-play/2020/nationa...</td>\n    </tr>\n    <tr>\n      <th>46</th>\n      <td>NZ</td>\n      <td>2020-09-26</td>\n      <td>Rohan Khanna Mechanologist Deck 26.9.20</td>\n      <td>New Zealand Nationals 2020</td>\n      <td>CC</td>\n      <td>Dash</td>\n      <td>7th</td>\n      <td>https://fabtcg.com/decklists/rohan-khanna-mech...</td>\n      <td>https://fabtcg.com/organised-play/2020/nationa...</td>\n    </tr>\n    <tr>\n      <th>47</th>\n      <td>NZ</td>\n      <td>2020-09-26</td>\n      <td>Cayle McCreath Guardian Deck 26.9.20</td>\n      <td>New Zealand Nationals 2020</td>\n      <td>CC</td>\n      <td>Bravo</td>\n      <td>8th</td>\n      <td>https://fabtcg.com/decklists/cayle-mccreath-gu...</td>\n      <td>https://fabtcg.com/organised-play/2020/nationa...</td>\n    </tr>\n    <tr>\n      <th>48</th>\n      <td>NZ</td>\n      <td>2020-09-20</td>\n      <td>Tom Penny Warrior Deck 20.9.2020</td>\n      <td>New Zealand - Road …</td>\n      <td>CC</td>\n      <td>Dorinthea</td>\n      <td>1st</td>\n      <td>https://fabtcg.com/decklists/tom-penny-warrior...</td>\n      <td>https://fabtcg.com/organised-play/2020/road-na...</td>\n    </tr>\n    <tr>\n      <th>49</th>\n      <td>NZ</td>\n      <td>2020-09-20</td>\n      <td>Karol Ruszkiewicz Brute Deck 20.9.2020</td>\n      <td>New Zealand - Road …</td>\n      <td>CC</td>\n      <td>Rhinar</td>\n      <td>2nd</td>\n      <td>https://fabtcg.com/decklists/karol-ruszkiewicz...</td>\n      <td>https://fabtcg.com/organised-play/2020/road-na...</td>\n    </tr>\n    <tr>\n      <th>50</th>\n      <td>NZ</td>\n      <td>2020-09-20</td>\n      <td>Henry Moore Mechanologist Deck 20.9.20</td>\n      <td>New Zealand - Road …</td>\n      <td>CC</td>\n      <td>Dash</td>\n      <td>3rd</td>\n      <td>https://fabtcg.com/decklists/henry-moore-mecha...</td>\n      <td>https://fabtcg.com/organised-play/2020/road-na...</td>\n    </tr>\n    <tr>\n      <th>51</th>\n      <td>NZ</td>\n      <td>2020-09-20</td>\n      <td>Luke Badger Brute Deck 20.9.20</td>\n      <td>New Zealand - Road …</td>\n      <td>CC</td>\n      <td>Rhinar</td>\n      <td>4th</td>\n      <td>https://fabtcg.com/decklists/luke-badger-brute...</td>\n      <td>https://fabtcg.com/organised-play/2020/road-na...</td>\n    </tr>\n    <tr>\n      <th>52</th>\n      <td>NZ</td>\n      <td>2020-09-20</td>\n      <td>Cayle McCreath Brute Deck 20.9.20</td>\n      <td>New Zealand - Road …</td>\n      <td>CC</td>\n      <td>Rhinar</td>\n      <td>5th</td>\n      <td>https://fabtcg.com/decklists/cayle-mccreath-br...</td>\n      <td>https://fabtcg.com/organised-play/2020/road-na...</td>\n    </tr>\n    <tr>\n      <th>53</th>\n      <td>NZ</td>\n      <td>2020-09-20</td>\n      <td>Chris Bewley Ninja Deck 20.9.20</td>\n      <td>New Zealand - Road …</td>\n      <td>CC</td>\n      <td>Katsu</td>\n      <td>6th</td>\n      <td>https://fabtcg.com/decklists/chris-bewley-ninj...</td>\n      <td>https://fabtcg.com/organised-play/2020/road-na...</td>\n    </tr>\n    <tr>\n      <th>54</th>\n      <td>NZ</td>\n      <td>2020-09-20</td>\n      <td>Jacob Pearson Guardian Deck 20.9.20</td>\n      <td>New Zealand - Road …</td>\n      <td>CC</td>\n      <td>Bravo</td>\n      <td>7th</td>\n      <td>https://fabtcg.com/decklists/jacob-pearson-gua...</td>\n      <td>https://fabtcg.com/organised-play/2020/road-na...</td>\n    </tr>\n    <tr>\n      <th>55</th>\n      <td>NZ</td>\n      <td>2020-09-20</td>\n      <td>Shamal Singh Ninja Deck 20.9.20</td>\n      <td>New Zealand - Road …</td>\n      <td>CC</td>\n      <td>Katsu</td>\n      <td>8th</td>\n      <td>https://fabtcg.com/decklists/shamal-singh-ninj...</td>\n      <td>https://fabtcg.com/organised-play/2020/road-na...</td>\n    </tr>\n    <tr>\n      <th>56</th>\n      <td>MY</td>\n      <td>2020-09-12</td>\n      <td>Lee Derk Hua Control Mechanologist Deck 12.9.20</td>\n      <td>Malaysia - Road to …</td>\n      <td>CC</td>\n      <td>Dash</td>\n      <td>1st</td>\n      <td>https://fabtcg.com/decklists/lee-derk-hua-cont...</td>\n      <td>https://fabtcg.com/organised-play/2020/road-na...</td>\n    </tr>\n    <tr>\n      <th>57</th>\n      <td>MY</td>\n      <td>2020-09-12</td>\n      <td>Saiful Bahari Hassan Ninja Control Deck 12.9.20</td>\n      <td>Malaysia - Road to …</td>\n      <td>CC</td>\n      <td>Katsu</td>\n      <td>2nd</td>\n      <td>https://fabtcg.com/decklists/saiful-bahari-has...</td>\n      <td>https://fabtcg.com/organised-play/2020/road-na...</td>\n    </tr>\n    <tr>\n      <th>58</th>\n      <td>MY</td>\n      <td>2020-09-12</td>\n      <td>Mohamad Hafiz Hamidon Ninja Deck 12.9.20</td>\n      <td>Malaysia - Road to …</td>\n      <td>CC</td>\n      <td>Katsu</td>\n      <td>3rd</td>\n      <td>https://fabtcg.com/decklists/mohamad-hafiz-ham...</td>\n      <td>https://fabtcg.com/organised-play/2020/road-na...</td>\n    </tr>\n    <tr>\n      <th>59</th>\n      <td>MY</td>\n      <td>2020-09-12</td>\n      <td>Davin Shin Brute Deck 12.9.20</td>\n      <td>Malaysia - Road to …</td>\n      <td>CC</td>\n      <td>Rhinar</td>\n      <td>4th</td>\n      <td>https://fabtcg.com/decklists/davin-shin-brute-...</td>\n      <td>https://fabtcg.com/organised-play/2020/road-na...</td>\n    </tr>\n    <tr>\n      <th>60</th>\n      <td>NZ</td>\n      <td>2020-08-30</td>\n      <td>Jasin Long Control Ninja Deck 30.8.20</td>\n      <td>New Zealand - Road …</td>\n      <td>CC</td>\n      <td>Katsu</td>\n      <td>1st</td>\n      <td>https://fabtcg.com/decklists/jasin-long-contro...</td>\n      <td>https://fabtcg.com/organised-play/2020/road-na...</td>\n    </tr>\n    <tr>\n      <th>61</th>\n      <td>NZ</td>\n      <td>2020-08-30</td>\n      <td>Daniel Real Warrior Deck 30.8.20</td>\n      <td>New Zealand - Road …</td>\n      <td>CC</td>\n      <td>Dorinthea</td>\n      <td>2nd</td>\n      <td>https://fabtcg.com/decklists/daniel-real-warri...</td>\n      <td>https://fabtcg.com/organised-play/2020/road-na...</td>\n    </tr>\n    <tr>\n      <th>62</th>\n      <td>NZ</td>\n      <td>2020-08-30</td>\n      <td>Kenny Forester Warrior Deck 30.8.20</td>\n      <td>New Zealand - Road …</td>\n      <td>CC</td>\n      <td>Dorinthea</td>\n      <td>3rd</td>\n      <td>https://fabtcg.com/decklists/kenny-forester-wa...</td>\n      <td>https://fabtcg.com/organised-play/2020/road-na...</td>\n    </tr>\n    <tr>\n      <th>63</th>\n      <td>NZ</td>\n      <td>2020-08-30</td>\n      <td>Rommel Estalilla Warrior Deck 30.8.20</td>\n      <td>New Zealand - Road …</td>\n      <td>CC</td>\n      <td>Dorinthea</td>\n      <td>4th</td>\n      <td>https://fabtcg.com/decklists/rommel-estalilla-...</td>\n      <td>https://fabtcg.com/organised-play/2020/road-na...</td>\n    </tr>\n    <tr>\n      <th>64</th>\n      <td>NZ</td>\n      <td>2020-08-30</td>\n      <td>Jed Lawless Ninja Deck 30.8.20</td>\n      <td>New Zealand - Road …</td>\n      <td>CC</td>\n      <td>Katsu</td>\n      <td>5th</td>\n      <td>https://fabtcg.com/decklists/jed-lawless-ninja...</td>\n      <td>https://fabtcg.com/organised-play/2020/road-na...</td>\n    </tr>\n    <tr>\n      <th>65</th>\n      <td>NZ</td>\n      <td>2020-08-30</td>\n      <td>Alex Barron Guardian Deck 30.8.20</td>\n      <td>New Zealand - Road …</td>\n      <td>CC</td>\n      <td>Bravo</td>\n      <td>6th</td>\n      <td>https://fabtcg.com/decklists/alex-barron-guard...</td>\n      <td>https://fabtcg.com/organised-play/2020/road-na...</td>\n    </tr>\n    <tr>\n      <th>66</th>\n      <td>NZ</td>\n      <td>2020-08-30</td>\n      <td>Mark Tung Mechanologist Deck 30.8.20</td>\n      <td>New Zealand - Road …</td>\n      <td>CC</td>\n      <td>Dash</td>\n      <td>7th</td>\n      <td>https://fabtcg.com/decklists/mark-tung-mechano...</td>\n      <td>https://fabtcg.com/organised-play/2020/road-na...</td>\n    </tr>\n    <tr>\n      <th>67</th>\n      <td>NZ</td>\n      <td>2020-08-30</td>\n      <td>Kieran Carnegie Ninja Deck 30.8.20</td>\n      <td>New Zealand - Road …</td>\n      <td>CC</td>\n      <td>Katsu</td>\n      <td>8th</td>\n      <td>https://fabtcg.com/decklists/kieran-carnegie-n...</td>\n      <td>https://fabtcg.com/organised-play/2020/road-na...</td>\n    </tr>\n  </tbody>\n</table>\n</div>"
     },
     "metadata": {},
     "execution_count": 34
    }
   ],
   "source": [
    "get_meta(df, date_tuple=releases['ARC'], tournament_format='CC')"
   ]
  },
  {
   "cell_type": "code",
   "execution_count": 11,
   "metadata": {},
   "outputs": [],
   "source": [
    "cru_df = get_meta(df, date=CRU_release, tournament_format=\"CC\")"
   ]
  },
  {
   "cell_type": "code",
   "execution_count": 12,
   "metadata": {},
   "outputs": [],
   "source": [
    "def add_decks_to_meta(meta_df):\n",
    "    meta_list = meta_df.to_dict(orient='records')\n",
    "    for i in meta_list:\n",
    "        if i['deck_link'] is None:\n",
    "            print(\"decklink is None\")\n",
    "        else:\n",
    "            i['metadata'], i['deck'] = get_deck(i['deck_link'])\n",
    "    \n",
    "    return meta_list"
   ]
  },
  {
   "cell_type": "code",
   "execution_count": 13,
   "metadata": {},
   "outputs": [],
   "source": [
    "def get_meta_share(df):\n",
    "    hero_counts = df['Hero'].value_counts()\n",
    "    hero_counts_df = pd.DataFrame({'hero': hero_counts.index, 'count': hero_counts, 'percentage': hero_counts / hero_counts.sum()})\n",
    "    \n",
    "    return hero_counts_df"
   ]
  },
  {
   "cell_type": "code",
   "execution_count": 14,
   "metadata": {
    "tags": []
   },
   "outputs": [
    {
     "output_type": "stream",
     "name": "stdout",
     "text": [
      "done!\n"
     ]
    },
    {
     "output_type": "execute_result",
     "data": {
      "text/plain": [
       "44"
      ]
     },
     "metadata": {},
     "execution_count": 14
    }
   ],
   "source": [
    "cru_with_decks = add_decks_to_meta(cru_df)\n",
    "print(\"done!\")\n",
    "len(cru_with_decks)"
   ]
  },
  {
   "cell_type": "code",
   "execution_count": 15,
   "metadata": {},
   "outputs": [
    {
     "output_type": "execute_result",
     "data": {
      "text/plain": [
       "                hero  count  percentage\n",
       "Katsu          Katsu     12    0.272727\n",
       "Dorinthea  Dorinthea     11    0.250000\n",
       "Dash            Dash      8    0.181818\n",
       "Rhinar        Rhinar      8    0.181818\n",
       "Bravo          Bravo      4    0.090909\n",
       "Azalea        Azalea      1    0.022727"
      ],
      "text/html": "<div>\n<style scoped>\n    .dataframe tbody tr th:only-of-type {\n        vertical-align: middle;\n    }\n\n    .dataframe tbody tr th {\n        vertical-align: top;\n    }\n\n    .dataframe thead th {\n        text-align: right;\n    }\n</style>\n<table border=\"1\" class=\"dataframe\">\n  <thead>\n    <tr style=\"text-align: right;\">\n      <th></th>\n      <th>hero</th>\n      <th>count</th>\n      <th>percentage</th>\n    </tr>\n  </thead>\n  <tbody>\n    <tr>\n      <th>Katsu</th>\n      <td>Katsu</td>\n      <td>12</td>\n      <td>0.272727</td>\n    </tr>\n    <tr>\n      <th>Dorinthea</th>\n      <td>Dorinthea</td>\n      <td>11</td>\n      <td>0.250000</td>\n    </tr>\n    <tr>\n      <th>Dash</th>\n      <td>Dash</td>\n      <td>8</td>\n      <td>0.181818</td>\n    </tr>\n    <tr>\n      <th>Rhinar</th>\n      <td>Rhinar</td>\n      <td>8</td>\n      <td>0.181818</td>\n    </tr>\n    <tr>\n      <th>Bravo</th>\n      <td>Bravo</td>\n      <td>4</td>\n      <td>0.090909</td>\n    </tr>\n    <tr>\n      <th>Azalea</th>\n      <td>Azalea</td>\n      <td>1</td>\n      <td>0.022727</td>\n    </tr>\n  </tbody>\n</table>\n</div>"
     },
     "metadata": {},
     "execution_count": 15
    }
   ],
   "source": [
    "cru_breakdown = get_meta_share(cru_df)\n",
    "cru_breakdown"
   ]
  },
  {
   "cell_type": "code",
   "execution_count": 18,
   "metadata": {},
   "outputs": [],
   "source": [
    "def count_card_group(group):\n",
    "    \n",
    "    # name = group.iloc[0]['name']\n",
    "    total_copies = group['copies'].sum()\n",
    "    if group[group['resource'] == 1].shape[0] > 0:\n",
    "        red_copies = group[group['resource'] == 1].iloc[0]['copies']\n",
    "    else:\n",
    "        red_copies = 0\n",
    "    if group[group['resource'] == 2].shape[0] > 0:\n",
    "        yellow_copies = group[group['resource'] == 2].iloc[0]['copies']\n",
    "    else:\n",
    "        yellow_copies = 0\n",
    "    if group[group['resource'] == 3].shape[0] > 0:\n",
    "        blue_copies = group[group['resource'] == 3].iloc[0]['copies']\n",
    "    else:\n",
    "        blue_copies = 0\n",
    "\n",
    "    return pd.DataFrame.from_dict({\n",
    "        # 'name': name,\n",
    "        'total_copies': [total_copies],\n",
    "        'red_copies': [red_copies],\n",
    "        'yellow_copies': [yellow_copies],\n",
    "        'blue_copies': [blue_copies],\n",
    "        })\n",
    "\n",
    "def get_card_counts(deck, split_equipment=False):\n",
    "    \n",
    "    if split_equipment is False:\n",
    "        counts = deck.groupby('name').apply(count_card_group)\n",
    "        counts.reset_index(inplace=True)\n",
    "        counts.drop('level_1', axis=1, inplace=True)\n",
    "\n",
    "        return counts\n",
    "    else:  # split_equipment is True\n",
    "        pass"
   ]
  },
  {
   "cell_type": "code",
   "execution_count": 21,
   "metadata": {},
   "outputs": [],
   "source": [
    "def get_staples(meta_list):\n",
    "    counts = []\n",
    "    for i in meta_list:\n",
    "        counts.append(get_card_counts(i['deck']))\n",
    "    c_concat = pd.concat(counts)\n",
    "    v_counts = c_concat['name'].value_counts().rename_axis('name').reset_index(name='decks')\n",
    "    staples = c_concat.groupby('name').mean()\n",
    "    staples = staples.merge(v_counts, how='outer', on=\"name\")\n",
    "    staples.rename(columns={\"decks_x\": \"decks\"}, inplace=True)\n",
    "    staples.sort_values('decks', ascending=False, inplace=True)\n",
    "    staples['percentage_of_decks'] = staples['decks'] / len(meta_list)\n",
    "\n",
    "    return staples\n"
   ]
  },
  {
   "cell_type": "code",
   "execution_count": 22,
   "metadata": {},
   "outputs": [],
   "source": [
    "get_staples(cru_with_decks).to_csv(\"staples.csv\")"
   ]
  },
  {
   "cell_type": "code",
   "execution_count": 23,
   "metadata": {},
   "outputs": [],
   "source": [
    "staples = get_staples(cru_with_decks)"
   ]
  },
  {
   "cell_type": "code",
   "execution_count": 24,
   "metadata": {},
   "outputs": [
    {
     "output_type": "execute_result",
     "data": {
      "text/plain": [
       "                       name  total_copies  red_copies  yellow_copies  \\\n",
       "138              Sink Below      3.225000    2.950000       0.200000   \n",
       "27      Command and Conquer      2.818182    2.818182       0.000000   \n",
       "55   Fyendal's Spring Tunic      1.000000    0.000000       0.000000   \n",
       "119             Remembrance      1.357143    0.000000       1.357143   \n",
       "47       Enlightened Strike      2.964286    2.964286       0.000000   \n",
       "4         Arcanite Skullcap      1.000000    0.000000       0.000000   \n",
       "92          Nullrune Gloves      1.000000    0.000000       0.000000   \n",
       "136         Sigil of Solace      2.545455    2.545455       0.000000   \n",
       "170               Unmovable      4.000000    1.809524       0.904762   \n",
       "48            Fate Foreseen      3.450000    2.850000       0.450000   \n",
       "\n",
       "     blue_copies  decks  percentage_of_decks  \n",
       "138     0.075000     40             0.909091  \n",
       "27      0.000000     33             0.750000  \n",
       "55      0.000000     32             0.727273  \n",
       "119     0.000000     28             0.636364  \n",
       "47      0.000000     28             0.636364  \n",
       "4       0.000000     27             0.613636  \n",
       "92      0.000000     24             0.545455  \n",
       "136     0.000000     22             0.500000  \n",
       "170     1.285714     21             0.477273  \n",
       "48      0.150000     20             0.454545  "
      ],
      "text/html": "<div>\n<style scoped>\n    .dataframe tbody tr th:only-of-type {\n        vertical-align: middle;\n    }\n\n    .dataframe tbody tr th {\n        vertical-align: top;\n    }\n\n    .dataframe thead th {\n        text-align: right;\n    }\n</style>\n<table border=\"1\" class=\"dataframe\">\n  <thead>\n    <tr style=\"text-align: right;\">\n      <th></th>\n      <th>name</th>\n      <th>total_copies</th>\n      <th>red_copies</th>\n      <th>yellow_copies</th>\n      <th>blue_copies</th>\n      <th>decks</th>\n      <th>percentage_of_decks</th>\n    </tr>\n  </thead>\n  <tbody>\n    <tr>\n      <th>138</th>\n      <td>Sink Below</td>\n      <td>3.225000</td>\n      <td>2.950000</td>\n      <td>0.200000</td>\n      <td>0.075000</td>\n      <td>40</td>\n      <td>0.909091</td>\n    </tr>\n    <tr>\n      <th>27</th>\n      <td>Command and Conquer</td>\n      <td>2.818182</td>\n      <td>2.818182</td>\n      <td>0.000000</td>\n      <td>0.000000</td>\n      <td>33</td>\n      <td>0.750000</td>\n    </tr>\n    <tr>\n      <th>55</th>\n      <td>Fyendal's Spring Tunic</td>\n      <td>1.000000</td>\n      <td>0.000000</td>\n      <td>0.000000</td>\n      <td>0.000000</td>\n      <td>32</td>\n      <td>0.727273</td>\n    </tr>\n    <tr>\n      <th>119</th>\n      <td>Remembrance</td>\n      <td>1.357143</td>\n      <td>0.000000</td>\n      <td>1.357143</td>\n      <td>0.000000</td>\n      <td>28</td>\n      <td>0.636364</td>\n    </tr>\n    <tr>\n      <th>47</th>\n      <td>Enlightened Strike</td>\n      <td>2.964286</td>\n      <td>2.964286</td>\n      <td>0.000000</td>\n      <td>0.000000</td>\n      <td>28</td>\n      <td>0.636364</td>\n    </tr>\n    <tr>\n      <th>4</th>\n      <td>Arcanite Skullcap</td>\n      <td>1.000000</td>\n      <td>0.000000</td>\n      <td>0.000000</td>\n      <td>0.000000</td>\n      <td>27</td>\n      <td>0.613636</td>\n    </tr>\n    <tr>\n      <th>92</th>\n      <td>Nullrune Gloves</td>\n      <td>1.000000</td>\n      <td>0.000000</td>\n      <td>0.000000</td>\n      <td>0.000000</td>\n      <td>24</td>\n      <td>0.545455</td>\n    </tr>\n    <tr>\n      <th>136</th>\n      <td>Sigil of Solace</td>\n      <td>2.545455</td>\n      <td>2.545455</td>\n      <td>0.000000</td>\n      <td>0.000000</td>\n      <td>22</td>\n      <td>0.500000</td>\n    </tr>\n    <tr>\n      <th>170</th>\n      <td>Unmovable</td>\n      <td>4.000000</td>\n      <td>1.809524</td>\n      <td>0.904762</td>\n      <td>1.285714</td>\n      <td>21</td>\n      <td>0.477273</td>\n    </tr>\n    <tr>\n      <th>48</th>\n      <td>Fate Foreseen</td>\n      <td>3.450000</td>\n      <td>2.850000</td>\n      <td>0.450000</td>\n      <td>0.150000</td>\n      <td>20</td>\n      <td>0.454545</td>\n    </tr>\n  </tbody>\n</table>\n</div>"
     },
     "metadata": {},
     "execution_count": 24
    }
   ],
   "source": [
    "staples.head(10)"
   ]
  },
  {
   "cell_type": "code",
   "execution_count": null,
   "metadata": {},
   "outputs": [],
   "source": []
  }
 ],
 "metadata": {
  "kernelspec": {
   "name": "python3",
   "display_name": "Python 3"
  },
  "language_info": {
   "codemirror_mode": {
    "name": "ipython",
    "version": 3
   },
   "file_extension": ".py",
   "mimetype": "text/x-python",
   "name": "python",
   "nbconvert_exporter": "python",
   "pygments_lexer": "ipython3",
   "version": "3.6.5-final"
  }
 },
 "nbformat": 4,
 "nbformat_minor": 4
}