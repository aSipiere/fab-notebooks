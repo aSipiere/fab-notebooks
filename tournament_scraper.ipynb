{
 "cells": [
  {
   "cell_type": "code",
   "execution_count": null,
   "metadata": {},
   "outputs": [],
   "source": [
    "import re\n",
    "\n",
    "from bs4 import BeautifulSoup\n",
    "import requests\n",
    "import pandas as pd\n",
    "import numpy as np"
   ]
  },
  {
   "cell_type": "markdown",
   "metadata": {},
   "source": [
    "First lets work out how many pages are on the tournament decklists page."
   ]
  },
  {
   "cell_type": "code",
   "execution_count": null,
   "metadata": {},
   "outputs": [],
   "source": [
    "def get_number_of_pages():\n",
    "    r = requests.get(f\"https://fabtcg.com/decklists/?page=1\")\n",
    "    soup = BeautifulSoup(r.text, 'html.parser')\n",
    "    last = int(soup.findAll(\"a\", {\"class\": \"page-link starling\"})[-1]['href'].partition(\"=\")[-1])\n",
    "    return last"
   ]
  },
  {
   "cell_type": "markdown",
   "metadata": {},
   "source": [
    "Now on each page we have to read the table, find all the links, and stitch them together."
   ]
  },
  {
   "cell_type": "code",
   "execution_count": null,
   "metadata": {},
   "outputs": [],
   "source": [
    "def get_page(page):\n",
    "    r = requests.get(f\"https://fabtcg.com/decklists/?page={page}\")\n",
    "    soup = BeautifulSoup(r.text, 'html.parser')\n",
    "    \n",
    "    df = pd.read_html(f\"https://fabtcg.com/decklists/?page={page}\", flavor='bs4')[0]\n",
    "    \n",
    "    table = soup.find('table')\n",
    "    links = {}\n",
    "    for tr in table.findAll(\"tr\"):\n",
    "        trs = tr.findAll(\"td\")\n",
    "        for each in trs:\n",
    "            try:\n",
    "                a_text = re.sub('\\s+',' ', each.find('a').contents[0])\n",
    "                a_link = each.find('a')['href']\n",
    "                links[a_text] = a_link\n",
    "            except:\n",
    "                pass\n",
    "\n",
    "    def fetch_deck_url(row):\n",
    "        try:\n",
    "            deck = links[row['Decklist']]\n",
    "        except:\n",
    "            deck = None\n",
    "\n",
    "        return deck\n",
    "\n",
    "    def fetch_event_url(row):\n",
    "        try:\n",
    "            event = links[row['Event']]\n",
    "        except:\n",
    "            event = None\n",
    "\n",
    "        return event\n",
    "    \n",
    "    df['deck_link'] = df.apply(fetch_deck_url, axis=1)\n",
    "    df['event_link'] = df.apply(fetch_event_url, axis=1)\n",
    "    df['Date'] = pd.to_datetime(df['Date'])\n",
    "    \n",
    "    return df"
   ]
  },
  {
   "cell_type": "markdown",
   "metadata": {},
   "source": [
    "Loop through the available pages and concat out the df."
   ]
  },
  {
   "cell_type": "code",
   "execution_count": null,
   "metadata": {},
   "outputs": [],
   "source": [
    "def get_all_pages():\n",
    "    dfs = []\n",
    "    for i in range(1, get_number_of_pages()):\n",
    "        dfs.append(get_page(i))\n",
    "        \n",
    "    return pd.concat(dfs).reset_index(drop=True)"
   ]
  },
  {
   "cell_type": "code",
   "execution_count": null,
   "metadata": {},
   "outputs": [],
   "source": [
    "df = get_all_pages()"
   ]
  },
  {
   "cell_type": "code",
   "execution_count": null,
   "metadata": {},
   "outputs": [],
   "source": [
    "df.to_csv(\"tournament_lists.csv\")"
   ]
  },
  {
   "cell_type": "markdown",
   "metadata": {},
   "source": [
    "Next we're going to use the cards we got from FABDB to get more data on card data."
   ]
  },
  {
   "cell_type": "code",
   "execution_count": null,
   "metadata": {},
   "outputs": [],
   "source": [
    "card_df = pd.read_csv(\"cards.csv\").drop(['image', 'resource', 'name'], axis=1)"
   ]
  },
  {
   "cell_type": "code",
   "execution_count": null,
   "metadata": {},
   "outputs": [],
   "source": [
    "def enrich_deck(deck_df, card_df):\n",
    "    return pd.merge(deck_df, card_df, left_on=['name_resource'], right_on=['name_resource'])"
   ]
  },
  {
   "cell_type": "code",
   "execution_count": null,
   "metadata": {},
   "outputs": [],
   "source": [
    "def get_deck(url):\n",
    "    r = requests.get(url)\n",
    "    soup = r.text\n",
    "    frames = pd.read_html(url, flavor='bs4')\n",
    "    \n",
    "    metadata = {frames[0].iloc[:, 0].to_list()[i]: frames[0].iloc[:, 1].to_list()[i] for i in range(frames[0].shape[0])}\n",
    "    equipment = frames[1].iloc[:, 0].str.extract(\"(?P<copies>.*?) x (?P<name>.*)\")\n",
    "    \n",
    "    dfs = []\n",
    "    for i in frames[2:]:\n",
    "        dfs.append(i.iloc[:, 0].str.extract(\"(?P<copies>.*?) x (?P<name>.*) \\((?P<resource>.*)\\)\"))    \n",
    "    dfs.append(equipment)\n",
    "    df = pd.concat(dfs)\n",
    "    \n",
    "    def transform_name(row):\n",
    "\n",
    "        resource_map = {\n",
    "            '3': '(Blue)',\n",
    "            '2': '(Yellow)',\n",
    "            '1': '(Red)',\n",
    "            np.nan: '',\n",
    "        }\n",
    "        \n",
    "        return f\"{row['name']} {resource_map[row['resource']]}\"\n",
    "    \n",
    "    df['name_resource'] = df.apply(transform_name, axis=1)\n",
    "    df = enrich_deck(df, card_df)\n",
    "    \n",
    "    numeric_cols = ['copies', 'resource', 'attack', 'cost', 'defense', 'intellect', 'life']\n",
    "    df[numeric_cols] = df[numeric_cols].apply(pd.to_numeric, errors='coerce')\n",
    "    \n",
    "    return metadata, df"
   ]
  },
  {
   "cell_type": "code",
   "execution_count": null,
   "metadata": {},
   "outputs": [],
   "source": [
    "_, td = get_deck('https://fabtcg.com/decklists/huang-chih-wei-warrior-deck-171020/')"
   ]
  },
  {
   "cell_type": "code",
   "execution_count": null,
   "metadata": {},
   "outputs": [],
   "source": [
    "td.head()"
   ]
  },
  {
   "cell_type": "code",
   "execution_count": null,
   "metadata": {},
   "outputs": [],
   "source": [
    "CRU_release = '2020-08-28'\n",
    "\n",
    "def get_meta(df, date, tournament_format):\n",
    "    return df[(df['Format'] == tournament_format) & (df['Date'] > date)]"
   ]
  },
  {
   "cell_type": "code",
   "execution_count": null,
   "metadata": {},
   "outputs": [],
   "source": [
    "cru_df = get_meta(df, date=CRU_release, tournament_format=\"CC\")"
   ]
  },
  {
   "cell_type": "code",
   "execution_count": null,
   "metadata": {},
   "outputs": [],
   "source": [
    "def add_decks_to_meta(meta_df):\n",
    "    meta_list = meta_df.to_dict(orient='records')\n",
    "    for i in meta_list:\n",
    "        if i['deck_link'] is None:\n",
    "            print(\"decklink is None\")\n",
    "            print(i)\n",
    "        else:\n",
    "            i['metadata'], i['deck'] = get_deck(i['deck_link'])\n",
    "    \n",
    "    return meta_list"
   ]
  },
  {
   "cell_type": "code",
   "execution_count": null,
   "metadata": {},
   "outputs": [],
   "source": [
    "def get_meta_share(df):\n",
    "    hero_counts = df['Hero'].value_counts()\n",
    "    hero_counts_df = pd.DataFrame({'hero': hero_counts.index, 'count': hero_counts, 'percentage': hero_counts / hero_counts.sum()})\n",
    "    \n",
    "    return hero_counts_df"
   ]
  },
  {
   "cell_type": "code",
   "execution_count": null,
   "metadata": {
    "tags": []
   },
   "outputs": [],
   "source": [
    "cru_with_decks = add_decks_to_meta(cru_df)\n",
    "len(cru_with_decks)"
   ]
  },
  {
   "cell_type": "code",
   "execution_count": null,
   "metadata": {},
   "outputs": [],
   "source": [
    "cru_breakdown = get_meta_share(cru_df)\n",
    "cru_breakdown"
   ]
  },
  {
   "cell_type": "code",
   "execution_count": null,
   "metadata": {},
   "outputs": [],
   "source": [
    "def count_card_group(group):\n",
    "    \n",
    "    # name = group.iloc[0]['name']\n",
    "    total_copies = group['copies'].sum()\n",
    "    if group[group['resource'] == 1].shape[0] > 0:\n",
    "        red_copies = group[group['resource'] == 1].iloc[0]['copies']\n",
    "    else:\n",
    "        red_copies = 0\n",
    "    if group[group['resource'] == 2].shape[0] > 0:\n",
    "        yellow_copies = group[group['resource'] == 2].iloc[0]['copies']\n",
    "    else:\n",
    "        yellow_copies = 0\n",
    "    if group[group['resource'] == 3].shape[0] > 0:\n",
    "        blue_copies = group[group['resource'] == 3].iloc[0]['copies']\n",
    "    else:\n",
    "        blue_copies = 0\n",
    "\n",
    "    return pd.DataFrame.from_dict({\n",
    "        # 'name': name,\n",
    "        'total_copies': [total_copies],\n",
    "        'red_copies': [red_copies],\n",
    "        'yellow_copies': [yellow_copies],\n",
    "        'blue_copies': [blue_copies],\n",
    "        })\n",
    "\n",
    "def get_card_counts(deck, split_equipment=False):\n",
    "    \n",
    "    if split_equipment is False:\n",
    "        counts = deck.groupby('name').apply(count_card_group)\n",
    "        counts.reset_index(inplace=True)\n",
    "        counts.drop('level_1', axis=1, inplace=True)\n",
    "\n",
    "        return counts\n",
    "    else:  # split_equipment is True\n",
    "        "
   ]
  },
  {
   "cell_type": "code",
   "execution_count": null,
   "metadata": {},
   "outputs": [],
   "source": [
    "def get_staples(meta_list):\n",
    "    counts = []\n",
    "    for i in meta_list:\n",
    "        counts.append(get_card_counts(i['deck']))\n",
    "    c_concat = pd.concat(counts)\n",
    "    v_counts = c_concat['name'].value_counts().rename_axis('name').reset_index(name='decks')\n",
    "    staples = c_concat.groupby('name').mean()\n",
    "    staples = staples.merge(v_counts, how='outer', on=\"name\")\n",
    "    staples.rename(columns={\"decks_x\": \"decks\"}, inplace=True)\n",
    "    staples.sort_values('decks', ascending=False, inplace=True)\n",
    "    staples['percentage_of_decks'] = sorted_staples['decks'] / len(meta_list)\n",
    "\n",
    "    return staples\n"
   ]
  },
  {
   "cell_type": "code",
   "execution_count": null,
   "metadata": {},
   "outputs": [],
   "source": [
    "get_staples(cru_with_decks).to_csv(\"staples.csv\")"
   ]
  },
  {
   "cell_type": "code",
   "execution_count": null,
   "metadata": {},
   "outputs": [],
   "source": []
  }
 ],
 "metadata": {
  "kernelspec": {
   "name": "python3",
   "display_name": "Python 3.6.5 64-bit ('iamar': virtualenv)",
   "metadata": {
    "interpreter": {
     "hash": "e50a00a60b76c525aa9a2a207ecdfe3d9465703de4d6f8979da246248d16aad3"
    }
   }
  },
  "language_info": {
   "codemirror_mode": {
    "name": "ipython",
    "version": 3
   },
   "file_extension": ".py",
   "mimetype": "text/x-python",
   "name": "python",
   "nbconvert_exporter": "python",
   "pygments_lexer": "ipython3",
   "version": "3.6.5-final"
  }
 },
 "nbformat": 4,
 "nbformat_minor": 4
}