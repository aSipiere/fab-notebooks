{
 "cells": [
  {
   "cell_type": "code",
   "execution_count": 1,
   "metadata": {},
   "outputs": [],
   "source": [
    "from bs4 import BeautifulSoup\n",
    "import requests\n",
    "import pandas as pd\n",
    "import numpy as np"
   ]
  },
  {
   "cell_type": "markdown",
   "metadata": {},
   "source": [
    "First lets work out how many pages are on the tournament decklists page."
   ]
  },
  {
   "cell_type": "code",
   "execution_count": 2,
   "metadata": {},
   "outputs": [],
   "source": [
    "def get_number_of_pages():\n",
    "    r = requests.get(f\"https://fabtcg.com/decklists/?page=1\")\n",
    "    soup = BeautifulSoup(r.text, 'html.parser')\n",
    "    last = int(soup.findAll(\"a\", {\"class\": \"page-link starling\"})[-1]['href'].partition(\"=\")[-1])\n",
    "    return last"
   ]
  },
  {
   "cell_type": "markdown",
   "metadata": {},
   "source": [
    "Now on each page we have to read the table, find all the links, and stitch them together."
   ]
  },
  {
   "cell_type": "code",
   "execution_count": 3,
   "metadata": {},
   "outputs": [],
   "source": [
    "def get_page(page):\n",
    "    r = requests.get(f\"https://fabtcg.com/decklists/?page={page}\")\n",
    "    soup = BeautifulSoup(r.text, 'html.parser')\n",
    "    \n",
    "    df = pd.read_html(f\"https://fabtcg.com/decklists/?page={page}\", flavor='bs4')[0]\n",
    "    \n",
    "    table = soup.find('table')\n",
    "    links = {}\n",
    "    for tr in table.findAll(\"tr\"):\n",
    "        trs = tr.findAll(\"td\")\n",
    "        for each in trs:\n",
    "            try:\n",
    "                a_text = each.find('a').contents[0]\n",
    "                a_link = each.find('a')['href']\n",
    "                links[a_text] = a_link\n",
    "            except:\n",
    "                pass\n",
    "\n",
    "    def fetch_deck_url(row):\n",
    "        try:\n",
    "            deck = links[row['Decklist']]\n",
    "        except:\n",
    "            deck = None\n",
    "\n",
    "        return deck\n",
    "\n",
    "    def fetch_event_url(row):\n",
    "        try:\n",
    "            event = links[row['Event']]\n",
    "        except:\n",
    "            event = None\n",
    "\n",
    "        return event\n",
    "    \n",
    "    df['deck_link'] = df.apply(fetch_deck_url, axis=1)\n",
    "    df['event_link'] = df.apply(fetch_event_url, axis=1)\n",
    "    df['Date'] = pd.to_datetime(df['Date'])\n",
    "    \n",
    "    return df"
   ]
  },
  {
   "cell_type": "markdown",
   "metadata": {},
   "source": [
    "Loop through the available pages and concat out the df."
   ]
  },
  {
   "cell_type": "code",
   "execution_count": 4,
   "metadata": {},
   "outputs": [],
   "source": [
    "def get_all_pages():\n",
    "    dfs = []\n",
    "    for i in range(1, get_number_of_pages()):\n",
    "        dfs.append(get_page(i))\n",
    "        \n",
    "    return pd.concat(dfs).reset_index(drop=True)"
   ]
  },
  {
   "cell_type": "code",
   "execution_count": 5,
   "metadata": {},
   "outputs": [],
   "source": [
    "df = get_all_pages()"
   ]
  },
  {
   "cell_type": "code",
   "execution_count": 6,
   "metadata": {},
   "outputs": [
    {
     "output_type": "execute_result",
     "data": {
      "text/plain": [
       "Empty DataFrame\n",
       "Columns: [Country, Date, Decklist, Event, Format, Hero, Result, deck_link, event_link]\n",
       "Index: []"
      ],
      "text/html": "<div>\n<style scoped>\n    .dataframe tbody tr th:only-of-type {\n        vertical-align: middle;\n    }\n\n    .dataframe tbody tr th {\n        vertical-align: top;\n    }\n\n    .dataframe thead th {\n        text-align: right;\n    }\n</style>\n<table border=\"1\" class=\"dataframe\">\n  <thead>\n    <tr style=\"text-align: right;\">\n      <th></th>\n      <th>Country</th>\n      <th>Date</th>\n      <th>Decklist</th>\n      <th>Event</th>\n      <th>Format</th>\n      <th>Hero</th>\n      <th>Result</th>\n      <th>deck_link</th>\n      <th>event_link</th>\n    </tr>\n  </thead>\n  <tbody>\n  </tbody>\n</table>\n</div>"
     },
     "metadata": {},
     "execution_count": 6
    }
   ],
   "source": [
    "df[df['deck_link'] == None]"
   ]
  },
  {
   "cell_type": "code",
   "execution_count": 7,
   "metadata": {},
   "outputs": [],
   "source": [
    "df.to_csv(\"tournament_lists.csv\")"
   ]
  },
  {
   "cell_type": "markdown",
   "metadata": {},
   "source": [
    "Next we're going to use the cards we got from FABDB to get more data on card data."
   ]
  },
  {
   "cell_type": "code",
   "execution_count": 8,
   "metadata": {},
   "outputs": [],
   "source": [
    "card_df = pd.read_csv(\"cards.csv\").drop(['image', 'resource', 'name'], axis=1)"
   ]
  },
  {
   "cell_type": "code",
   "execution_count": 9,
   "metadata": {},
   "outputs": [],
   "source": [
    "def enrich_deck(deck_df, card_df):\n",
    "    return pd.merge(deck_df, card_df, left_on=['name_resource'], right_on=['name_resource'])"
   ]
  },
  {
   "cell_type": "code",
   "execution_count": 10,
   "metadata": {},
   "outputs": [],
   "source": [
    "def get_deck(url):\n",
    "    r = requests.get(url)\n",
    "    soup = r.text\n",
    "    frames = pd.read_html(url, flavor='bs4')\n",
    "    \n",
    "    metadata = {frames[0].iloc[:, 0].to_list()[i]: frames[0].iloc[:, 1].to_list()[i] for i in range(frames[0].shape[0])}\n",
    "    equipment = frames[1].iloc[:, 0].str.extract(\"(?P<copies>.*?) x (?P<name>.*)\")\n",
    "    \n",
    "    dfs = []\n",
    "    for i in frames[2:]:\n",
    "        dfs.append(i.iloc[:, 0].str.extract(\"(?P<copies>.*?) x (?P<name>.*) \\((?P<resource>.*)\\)\"))    \n",
    "    df = pd.concat(dfs)\n",
    "    df.append(equipment)\n",
    "    \n",
    "    def transform_name(row):\n",
    "        resource_map = {\n",
    "            '3': '(Blue)',\n",
    "            '2': '(Yellow)',\n",
    "            '1': '(Red)',\n",
    "            np.nan: '',\n",
    "        }\n",
    "\n",
    "        return f\"{row['name']} {resource_map[row['resource']]}\"\n",
    "    \n",
    "    df['name_resource'] = df.apply(transform_name, axis=1)\n",
    "    \n",
    "    df = enrich_deck(df, card_df)\n",
    "    numeric_cols = ['copies', 'resource', 'attack', 'cost', 'defense', 'intellect', 'life']\n",
    "    df[numeric_cols].apply(pd.to_numeric, errors='coerce')\n",
    "    \n",
    "    return metadata, df"
   ]
  },
  {
   "cell_type": "code",
   "execution_count": 11,
   "metadata": {},
   "outputs": [],
   "source": [
    "CRU_release = '2020-08-28'\n",
    "\n",
    "def get_meta(df, date, tournament_format):\n",
    "    return df[(df['Format'] == tournament_format) & (df['Date'] > date)]"
   ]
  },
  {
   "cell_type": "code",
   "execution_count": 12,
   "metadata": {},
   "outputs": [],
   "source": [
    "cru_df = get_meta(df, date=CRU_release, tournament_format=\"CC\")"
   ]
  },
  {
   "cell_type": "code",
   "execution_count": 13,
   "metadata": {},
   "outputs": [],
   "source": [
    "def add_decks_to_meta(meta_df):\n",
    "    meta_list = meta_df.to_dict(orient='records')\n",
    "    for i in meta_list:\n",
    "        if i['deck_link'] is None:\n",
    "            print(\"decklink is None\")\n",
    "            print(i)\n",
    "        else:\n",
    "            i['metadata'], i['deck'] = get_deck(i['deck_link'])\n",
    "    \n",
    "    return meta_list"
   ]
  },
  {
   "cell_type": "code",
   "execution_count": 14,
   "metadata": {},
   "outputs": [],
   "source": [
    "def get_meta_share(df):\n",
    "    hero_counts = df['Hero'].value_counts()\n",
    "    hero_counts_df = pd.DataFrame({'hero': cru_hero_counts.index, 'count': cru_hero_counts, 'percentage': cru_hero_counts / cru_hero_counts.sum()})\n",
    "    \n",
    "    return hero_counts_df"
   ]
  },
  {
   "cell_type": "code",
   "execution_count": 18,
   "metadata": {},
   "outputs": [
    {
     "output_type": "execute_result",
     "data": {
      "text/plain": [
       "   Country       Date                               Decklist  \\\n",
       "60      NZ 2020-08-30  Jasin Long Control Ninja Deck 30.8.20   \n",
       "\n",
       "                   Event Format   Hero Result deck_link  \\\n",
       "60  New Zealand - Road …     CC  Katsu    1st      None   \n",
       "\n",
       "                                           event_link  \n",
       "60  https://fabtcg.com/organised-play/2020/road-na...  "
      ],
      "text/html": "<div>\n<style scoped>\n    .dataframe tbody tr th:only-of-type {\n        vertical-align: middle;\n    }\n\n    .dataframe tbody tr th {\n        vertical-align: top;\n    }\n\n    .dataframe thead th {\n        text-align: right;\n    }\n</style>\n<table border=\"1\" class=\"dataframe\">\n  <thead>\n    <tr style=\"text-align: right;\">\n      <th></th>\n      <th>Country</th>\n      <th>Date</th>\n      <th>Decklist</th>\n      <th>Event</th>\n      <th>Format</th>\n      <th>Hero</th>\n      <th>Result</th>\n      <th>deck_link</th>\n      <th>event_link</th>\n    </tr>\n  </thead>\n  <tbody>\n    <tr>\n      <th>60</th>\n      <td>NZ</td>\n      <td>2020-08-30</td>\n      <td>Jasin Long Control Ninja Deck 30.8.20</td>\n      <td>New Zealand - Road …</td>\n      <td>CC</td>\n      <td>Katsu</td>\n      <td>1st</td>\n      <td>None</td>\n      <td>https://fabtcg.com/organised-play/2020/road-na...</td>\n    </tr>\n  </tbody>\n</table>\n</div>"
     },
     "metadata": {},
     "execution_count": 18
    }
   ],
   "source": [
    "cru_df[cru_df['deck_link'].isnull()]"
   ]
  },
  {
   "cell_type": "code",
   "execution_count": 16,
   "metadata": {},
   "outputs": [
    {
     "output_type": "stream",
     "name": "stdout",
     "text": [
      "decklink is None\n{'Country': 'NZ', 'Date': Timestamp('2020-08-30 00:00:00'), 'Decklist': 'Jasin Long Control Ninja Deck 30.8.20', 'Event': 'New Zealand - Road …', 'Format': 'CC', 'Hero': 'Katsu', 'Result': '1st', 'deck_link': None, 'event_link': 'https://fabtcg.com/organised-play/2020/road-nationals-2020/nz-road-nationals/'}\n"
     ]
    }
   ],
   "source": [
    "cru_with_decks = add_decks_to_meta(cru_df)"
   ]
  },
  {
   "cell_type": "code",
   "execution_count": 62,
   "metadata": {},
   "outputs": [
    {
     "data": {
      "text/html": [
       "<div>\n",
       "<style scoped>\n",
       "    .dataframe tbody tr th:only-of-type {\n",
       "        vertical-align: middle;\n",
       "    }\n",
       "\n",
       "    .dataframe tbody tr th {\n",
       "        vertical-align: top;\n",
       "    }\n",
       "\n",
       "    .dataframe thead th {\n",
       "        text-align: right;\n",
       "    }\n",
       "</style>\n",
       "<table border=\"1\" class=\"dataframe\">\n",
       "  <thead>\n",
       "    <tr style=\"text-align: right;\">\n",
       "      <th></th>\n",
       "      <th>hero</th>\n",
       "      <th>count</th>\n",
       "      <th>percentage</th>\n",
       "    </tr>\n",
       "  </thead>\n",
       "  <tbody>\n",
       "    <tr>\n",
       "      <th>Katsu</th>\n",
       "      <td>Katsu</td>\n",
       "      <td>12</td>\n",
       "      <td>0.272727</td>\n",
       "    </tr>\n",
       "    <tr>\n",
       "      <th>Dorinthea</th>\n",
       "      <td>Dorinthea</td>\n",
       "      <td>11</td>\n",
       "      <td>0.250000</td>\n",
       "    </tr>\n",
       "    <tr>\n",
       "      <th>Rhinar</th>\n",
       "      <td>Rhinar</td>\n",
       "      <td>8</td>\n",
       "      <td>0.181818</td>\n",
       "    </tr>\n",
       "    <tr>\n",
       "      <th>Dash</th>\n",
       "      <td>Dash</td>\n",
       "      <td>8</td>\n",
       "      <td>0.181818</td>\n",
       "    </tr>\n",
       "    <tr>\n",
       "      <th>Bravo</th>\n",
       "      <td>Bravo</td>\n",
       "      <td>4</td>\n",
       "      <td>0.090909</td>\n",
       "    </tr>\n",
       "    <tr>\n",
       "      <th>Azalea</th>\n",
       "      <td>Azalea</td>\n",
       "      <td>1</td>\n",
       "      <td>0.022727</td>\n",
       "    </tr>\n",
       "  </tbody>\n",
       "</table>\n",
       "</div>"
      ],
      "text/plain": [
       "                hero  count  percentage\n",
       "Katsu          Katsu     12    0.272727\n",
       "Dorinthea  Dorinthea     11    0.250000\n",
       "Rhinar        Rhinar      8    0.181818\n",
       "Dash            Dash      8    0.181818\n",
       "Bravo          Bravo      4    0.090909\n",
       "Azalea        Azalea      1    0.022727"
      ]
     },
     "execution_count": 62,
     "metadata": {},
     "output_type": "execute_result"
    }
   ],
   "source": [
    "cru_breakdown = get_meta_share(cru_df)\n",
    "cru_breakdown"
   ]
  },
  {
   "cell_type": "code",
   "execution_count": null,
   "metadata": {},
   "outputs": [],
   "source": []
  }
 ],
 "metadata": {
  "kernelspec": {
   "name": "python3",
   "display_name": "Python 3.6.5 64-bit ('iamar': virtualenv)",
   "metadata": {
    "interpreter": {
     "hash": "e50a00a60b76c525aa9a2a207ecdfe3d9465703de4d6f8979da246248d16aad3"
    }
   }
  },
  "language_info": {
   "codemirror_mode": {
    "name": "ipython",
    "version": 3
   },
   "file_extension": ".py",
   "mimetype": "text/x-python",
   "name": "python",
   "nbconvert_exporter": "python",
   "pygments_lexer": "ipython3",
   "version": "3.6.5-final"
  }
 },
 "nbformat": 4,
 "nbformat_minor": 4
}