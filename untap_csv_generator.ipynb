{
 "cells": [
  {
   "cell_type": "code",
   "execution_count": null,
   "metadata": {},
   "outputs": [],
   "source": [
    "import requests\n",
    "import pandas as pd"
   ]
  },
  {
   "cell_type": "code",
   "execution_count": null,
   "metadata": {},
   "outputs": [],
   "source": [
    "base_url = \"http://api.fabdb.net\"\n",
    "headers = {\"content-type\": \"application/json\"}\n",
    "payload = {}"
   ]
  },
  {
   "cell_type": "code",
   "execution_count": null,
   "metadata": {},
   "outputs": [],
   "source": [
    "'meta': {'current_page': 1,\n",
    "  'from': 1,\n",
    "  'last_page': 27,\n",
    "  'path': '/cards',\n",
    "  'per_page': 25,\n",
    "  'to': 25,\n",
    "  'total': 656}}\n"
   ]
  },
  {
   "cell_type": "code",
   "execution_count": null,
   "metadata": {},
   "outputs": [],
   "source": [
    "def transform_name(row):\n",
    "\n",
    "    resource_map = {\n",
    "        '3': 'Blue',\n",
    "        '2': 'Yellow',\n",
    "        '1': 'Red',\n",
    "    }\n",
    "    if 'resource' in row['stats']:\n",
    "        name = f\"{row['name']} ({resource_map[row['stats']['resource']]})\"\n",
    "    else:\n",
    "        name = row['name']\n",
    "    \n",
    "    return name"
   ]
  },
  {
   "cell_type": "code",
   "execution_count": null,
   "metadata": {},
   "outputs": [],
   "source": [
    "def transform_set(row):\n",
    "     return row['identifier'][:3]"
   ]
  },
  {
   "cell_type": "code",
   "execution_count": null,
   "metadata": {},
   "outputs": [],
   "source": [
    "def build_df():\n",
    "    dfs = []\n",
    "    for page in range(1, 27):\n",
    "        r = requests.get(f\"{base_url}/cards\", params={'page': page})\n",
    "        dfs.append(pd.DataFrame.from_dict(r.json()['data']))\n",
    "    \n",
    "    return pd.concat(dfs)"
   ]
  },
  {
   "cell_type": "code",
   "execution_count": null,
   "metadata": {},
   "outputs": [],
   "source": [
    "df = build_df()"
   ]
  },
  {
   "cell_type": "code",
   "execution_count": null,
   "metadata": {},
   "outputs": [],
   "source": [
    "df['untap_name'] = df.apply(transform_name, axis=1)\n",
    "df['set'] = df.apply(transform_set, axis=1)\n",
    "df['back_url'] = \"https://storage.googleapis.com/fabmaster/media/images/cardback_3mm_63x88.width-300.png\""
   ]
  },
  {
   "cell_type": "code",
   "execution_count": null,
   "metadata": {},
   "outputs": [],
   "source": [
    "output = df[['untap_name', 'set', 'rarity', 'image', 'back_url']]"
   ]
  },
  {
   "cell_type": "code",
   "execution_count": null,
   "metadata": {},
   "outputs": [],
   "source": [
    "output.rename(columns={'untap_name': 'name', 'image': 'image_url'}, inplace=True)"
   ]
  },
  {
   "cell_type": "code",
   "execution_count": null,
   "metadata": {},
   "outputs": [],
   "source": [
    "output.to_csv(\"fab_cards_20201112.csv\")"
   ]
  },
  {
   "cell_type": "code",
   "execution_count": null,
   "metadata": {},
   "outputs": [],
   "source": []
  }
 ],
 "metadata": {
  "kernelspec": {
   "display_name": "Python 3",
   "language": "python",
   "name": "python3"
  },
  "language_info": {
   "codemirror_mode": {
    "name": "ipython",
    "version": 3
   },
   "file_extension": ".py",
   "mimetype": "text/x-python",
   "name": "python",
   "nbconvert_exporter": "python",
   "pygments_lexer": "ipython3",
   "version": "3.6.5"
  }
 },
 "nbformat": 4,
 "nbformat_minor": 4
}