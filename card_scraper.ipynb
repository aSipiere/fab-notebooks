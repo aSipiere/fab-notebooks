{
 "cells": [
  {
   "cell_type": "code",
   "execution_count": null,
   "metadata": {},
   "outputs": [],
   "source": [
    "import requests\n",
    "import pandas as pd\n",
    "import numpy as np"
   ]
  },
  {
   "cell_type": "code",
   "execution_count": null,
   "metadata": {},
   "outputs": [],
   "source": [
    "def divide_chunks(n, d=100):\n",
    "    return int((n+ (d-1))/d)"
   ]
  },
  {
   "cell_type": "code",
   "execution_count": null,
   "metadata": {},
   "outputs": [],
   "source": [
    "base_url = \"https://api.fabdb.net/cards\"\n",
    "\n",
    "payload = {\n",
    "    \"page\": 1,\n",
    "    \"per_page\": 100,\n",
    "}\n",
    "\n",
    "pages = []\n",
    "for i in range(1, divide_chunks(656, 100)):\n",
    "    r = requests.get(base_url, params=payload)\n",
    "    pages.append(r.json())\n",
    "    payload['page'] += 1"
   ]
  },
  {
   "cell_type": "code",
   "execution_count": null,
   "metadata": {},
   "outputs": [],
   "source": [
    "dfs = []\n",
    "for i in pages:\n",
    "    dfs.append(pd.DataFrame.from_dict(i['data']))\n",
    "df = pd.concat(dfs).reset_index()"
   ]
  },
  {
   "cell_type": "code",
   "execution_count": null,
   "metadata": {},
   "outputs": [],
   "source": [
    "stat_list = df.stats.values.tolist()\n",
    "for n, i in enumerate(stat_list):\n",
    "    if i == []:\n",
    "        stat_list[n] = {}\n",
    "        \n",
    "df = df.drop(['stats', 'index'], axis=1).join(pd.DataFrame(stat_list))\n",
    "# numeric_cols = ['resource', 'attack', 'cost', 'defense', 'intellect', 'life']\n",
    "# df[numeric_cols] = df[numeric_cols].apply(pd.to_numeric, errors='coerce')"
   ]
  },
  {
   "cell_type": "code",
   "execution_count": null,
   "metadata": {},
   "outputs": [],
   "source": [
    "def transform_name(row):\n",
    "\n",
    "    resource_map = {\n",
    "        '3': '(Blue)',\n",
    "        '2': '(Yellow)',\n",
    "        '1': '(Red)',\n",
    "        np.nan: '',\n",
    "    }\n",
    "    \n",
    "    return f\"{row['name']} {resource_map[row['resource']]}\""
   ]
  },
  {
   "cell_type": "code",
   "execution_count": null,
   "metadata": {},
   "outputs": [],
   "source": [
    "df['name_resource'] = df.apply(transform_name, axis=1)"
   ]
  },
  {
   "cell_type": "code",
   "execution_count": null,
   "metadata": {},
   "outputs": [],
   "source": [
    "df = df[~df['identifier'].str.contains(\"IRA\")]\n",
    "df = df.drop_duplicates('name_resource')\n"
   ]
  },
  {
   "cell_type": "code",
   "execution_count": null,
   "metadata": {},
   "outputs": [],
   "source": [
    "df.to_csv(\"cards.csv\", index=False)"
   ]
  },
  {
   "cell_type": "code",
   "execution_count": null,
   "metadata": {},
   "outputs": [],
   "source": [
    "df[df['name'] == \"Harmonized Kodachi\"]"
   ]
  },
  {
   "cell_type": "code",
   "execution_count": null,
   "metadata": {},
   "outputs": [],
   "source": []
  }
 ],
 "metadata": {
  "kernelspec": {
   "name": "python3",
   "display_name": "Python 3.7.3 64-bit ('baro': conda)",
   "metadata": {
    "interpreter": {
     "hash": "659266d8a455d26618768102df0078a8cc075bdda47fb8955d6ff66ee655db2b"
    }
   }
  },
  "language_info": {
   "codemirror_mode": {
    "name": "ipython",
    "version": 3
   },
   "file_extension": ".py",
   "mimetype": "text/x-python",
   "name": "python",
   "nbconvert_exporter": "python",
   "pygments_lexer": "ipython3",
   "version": "3.7.3-final"
  }
 },
 "nbformat": 4,
 "nbformat_minor": 4
}